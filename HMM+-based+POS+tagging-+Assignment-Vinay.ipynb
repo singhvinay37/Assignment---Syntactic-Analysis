{
 "cells": [
  {
   "cell_type": "markdown",
   "metadata": {},
   "source": [
    "## Problem Statement - HMMs and Viterbi algorithm for POS tagging"
   ]
  },
  {
   "cell_type": "markdown",
   "metadata": {},
   "source": [
    "In this assignment, need to modify the Viterbi algorithm to solve the problem of unknown words using at least two techniques. Though there could be multiple ways to solve this problem, you may use the following hints:\n",
    "\n",
    "- Which tag class do you think most unknown words belong to? Can you identify rules (e.g. based on morphological cues) that can be used to tag unknown words? You may define separate python functions to exploit these rules so that they work in tandem with the original Viterbi algorithm.\n",
    "- Why does the Viterbi algorithm choose a random tag on encountering an unknown word? Can you modify the Viterbi algorithm so that it considers only one of the transition or emission probabilities for unknown words?"
   ]
  },
  {
   "cell_type": "markdown",
   "metadata": {},
   "source": [
    "#### Need to accomplish the following in this assignment:\n",
    "\n",
    "- Write the vanilla Viterbi algorithm for assigning POS tags (i.e. without dealing with unknown words) \n",
    "- Solve the problem of unknown words using at least two techniques. These techniques can use any of the approaches discussed in the class - lexicon, rule-based, probabilistic etc. Note that to implement these techniques, you can either write separate functions and call them from the main Viterbi algorithm, or modify the Viterbi algorithm, or both.\n",
    "- Compare the tagging accuracy after making these modifications with the vanilla Viterbi algorithm.\n",
    "- List down at least three cases from the sample test file (i.e. unknown word-tag pairs) which were incorrectly tagged by the original Viterbi POS tagger and got corrected after your modifications."
   ]
  },
  {
   "cell_type": "markdown",
   "metadata": {},
   "source": [
    "### Data Preparation"
   ]
  },
  {
   "cell_type": "code",
   "execution_count": 1,
   "metadata": {},
   "outputs": [],
   "source": [
    "#Importing libraries\n",
    "import nltk\n",
    "import numpy as np\n",
    "import pandas as pd\n",
    "import pprint, time\n",
    "import random\n",
    "from sklearn.model_selection import train_test_split\n",
    "from nltk.tokenize import word_tokenize\n",
    "import math\n",
    "import re\n",
    "from collections import Counter"
   ]
  },
  {
   "cell_type": "code",
   "execution_count": 2,
   "metadata": {},
   "outputs": [
    {
     "name": "stdout",
     "output_type": "stream",
     "text": [
      "Size of NLTK Dataset: 3914\n"
     ]
    }
   ],
   "source": [
    "#reading the Treebank tagged universal dataset sentences\n",
    "nltk_data = list(nltk.corpus.treebank.tagged_sents(tagset='universal'))\n",
    "print(\"Size of NLTK Dataset:\",len(nltk_data))"
   ]
  },
  {
   "cell_type": "code",
   "execution_count": 3,
   "metadata": {},
   "outputs": [
    {
     "name": "stdout",
     "output_type": "stream",
     "text": [
      "[[('Pierre', 'NOUN'), ('Vinken', 'NOUN'), (',', '.'), ('61', 'NUM'), ('years', 'NOUN'), ('old', 'ADJ'), (',', '.'), ('will', 'VERB'), ('join', 'VERB'), ('the', 'DET'), ('board', 'NOUN'), ('as', 'ADP'), ('a', 'DET'), ('nonexecutive', 'ADJ'), ('director', 'NOUN'), ('Nov.', 'NOUN'), ('29', 'NUM'), ('.', '.')], [('Mr.', 'NOUN'), ('Vinken', 'NOUN'), ('is', 'VERB'), ('chairman', 'NOUN'), ('of', 'ADP'), ('Elsevier', 'NOUN'), ('N.V.', 'NOUN'), (',', '.'), ('the', 'DET'), ('Dutch', 'NOUN'), ('publishing', 'VERB'), ('group', 'NOUN'), ('.', '.')], [('Rudolph', 'NOUN'), ('Agnew', 'NOUN'), (',', '.'), ('55', 'NUM'), ('years', 'NOUN'), ('old', 'ADJ'), ('and', 'CONJ'), ('former', 'ADJ'), ('chairman', 'NOUN'), ('of', 'ADP'), ('Consolidated', 'NOUN'), ('Gold', 'NOUN'), ('Fields', 'NOUN'), ('PLC', 'NOUN'), (',', '.'), ('was', 'VERB'), ('named', 'VERB'), ('*-1', 'X'), ('a', 'DET'), ('nonexecutive', 'ADJ'), ('director', 'NOUN'), ('of', 'ADP'), ('this', 'DET'), ('British', 'ADJ'), ('industrial', 'ADJ'), ('conglomerate', 'NOUN'), ('.', '.')]]\n"
     ]
    }
   ],
   "source": [
    "#lets take a look on few sentences from NLTK datset\n",
    "print(nltk_data[:3])"
   ]
  },
  {
   "cell_type": "code",
   "execution_count": 4,
   "metadata": {},
   "outputs": [
    {
     "name": "stdout",
     "output_type": "stream",
     "text": [
      "Size of train Data: 3718\n",
      "Size of validation Data: 196\n"
     ]
    }
   ],
   "source": [
    "#split dataset into train & validation sets in the ratio of 95:5 as mentioned.\n",
    "train, validation = train_test_split(nltk_data,train_size=0.95,test_size=0.05,random_state=99)\n",
    "print(\"Size of train Data:\",len(train))\n",
    "print(\"Size of validation Data:\",len(validation))"
   ]
  },
  {
   "cell_type": "code",
   "execution_count": 5,
   "metadata": {},
   "outputs": [
    {
     "name": "stdout",
     "output_type": "stream",
     "text": [
      "[[('It', 'PRON'), ('also', 'ADV'), ('empowers', 'VERB'), ('the', 'DET'), ('president', 'NOUN'), ('to', 'PRT'), ('make', 'VERB'), ('recess', 'NOUN'), ('appointments', 'NOUN'), (',', '.'), ('without', 'ADP'), ('Senate', 'NOUN'), ('approval', 'NOUN'), (':', '.'), ('``', '.'), ('The', 'DET'), ('President', 'NOUN'), ('shall', 'VERB'), ('have', 'VERB'), ('Power', 'NOUN'), ('*', 'X'), ('to', 'PRT'), ('fill', 'VERB'), ('up', 'PRT'), ('all', 'DET'), ('Vacancies', 'NOUN'), ('that', 'DET'), ('*T*-1', 'X'), ('may', 'VERB'), ('happen', 'VERB'), ('during', 'ADP'), ('the', 'DET'), ('Recess', 'NOUN'), ('of', 'ADP'), ('the', 'DET'), ('Senate', 'NOUN'), (',', '.'), ('by', 'ADP'), ('*-2', 'X'), ('granting', 'VERB'), ('Commissions', 'NOUN'), ('which', 'DET'), ('*T*-40', 'X'), ('shall', 'VERB'), ('expire', 'VERB'), ('at', 'ADP'), ('the', 'DET'), ('End', 'NOUN'), ('of', 'ADP'), ('their', 'PRON'), ('next', 'ADJ'), ('Session', 'NOUN'), ('.', '.'), (\"''\", '.')], [('Note', 'VERB'), (':', '.'), ('All', 'DET'), ('per-share', 'ADJ'), ('figures', 'NOUN'), ('are', 'VERB'), ('fully', 'ADV'), ('diluted', 'VERB'), ('.', '.')], [('``', '.'), ('Varying', 'ADJ'), ('age', 'NOUN'), (',', '.'), ('geography', 'NOUN'), ('and', 'CONJ'), ('life-style', 'NOUN'), ('differences', 'NOUN'), ('create', 'VERB'), ('numerous', 'ADJ'), ('sub-markets', 'NOUN'), (',', '.'), (\"''\", '.'), ('Ms.', 'NOUN'), ('MacDonald', 'NOUN'), ('says', 'VERB'), ('*T*-1', 'X'), ('.', '.')], [('Here', 'ADV'), ('are', 'VERB'), ('*T*-1', 'X'), ('the', 'DET'), ('Commerce', 'NOUN'), ('Department', 'NOUN'), (\"'s\", 'PRT'), ('latest', 'ADJ'), ('figures', 'NOUN'), ('for', 'ADP'), ('manufacturers', 'NOUN'), ('in', 'ADP'), ('billions', 'NOUN'), ('of', 'ADP'), ('dollars', 'NOUN'), (',', '.'), ('seasonally', 'ADV'), ('adjusted', 'VERB'), ('.', '.')], [('The', 'DET'), ('United', 'NOUN'), ('Kingdom', 'NOUN'), ('High', 'NOUN'), ('Court', 'NOUN'), ('declared', 'VERB'), ('illegal', 'ADJ'), ('a', 'DET'), ('variety', 'NOUN'), ('of', 'ADP'), ('interest-rate', 'NOUN'), ('swap', 'NOUN'), ('transactions', 'NOUN'), ('and', 'CONJ'), ('options', 'NOUN'), ('deals', 'NOUN'), ('between', 'ADP'), ('a', 'DET'), ('London', 'NOUN'), ('borough', 'NOUN'), ('council', 'NOUN'), ('and', 'CONJ'), ('commercial', 'ADJ'), ('banks', 'NOUN'), ('.', '.')], [('Earnings', 'NOUN'), ('were', 'VERB'), ('hurt', 'VERB'), ('*-1', 'X'), ('by', 'ADP'), ('disposal', 'NOUN'), ('of', 'ADP'), ('operations', 'NOUN'), ('in', 'ADP'), ('its', 'PRON'), ('restructuring', 'NOUN'), (',', '.'), ('Reed', 'NOUN'), ('said', 'VERB'), ('0', 'X'), ('*T*-2', 'X'), ('.', '.')], [('Campbell', 'NOUN'), ('officials', 'NOUN'), ('said', 'VERB'), ('0', 'X'), ('Mr.', 'NOUN'), ('McGovern', 'NOUN'), ('was', 'VERB'), (\"n't\", 'ADV'), ('available', 'ADJ'), ('*ICH*-2', 'X'), ('yesterday', 'NOUN'), ('*-1', 'X'), ('to', 'PRT'), ('discuss', 'VERB'), ('the', 'DET'), ('circumstances', 'NOUN'), ('of', 'ADP'), ('his', 'PRON'), ('departure', 'NOUN'), ('.', '.')], [('Still', 'ADV'), (',', '.'), ('USX', 'NOUN'), ('fared', 'VERB'), ('better', 'ADV'), ('than', 'ADP'), ('other', 'ADJ'), ('major', 'ADJ'), ('steelmakers', 'NOUN'), (',', '.'), ('*-3', 'X'), ('earning', 'VERB'), ('more', 'ADJ'), ('per', 'ADP'), ('ton', 'NOUN'), ('of', 'ADP'), ('steel', 'NOUN'), ('shipped', 'VERB'), ('*', 'X'), ('than', 'ADP'), ('either', 'DET'), ('Bethlehem', 'NOUN'), ('Steel', 'NOUN'), ('Corp.', 'NOUN'), (',', '.'), ('which', 'DET'), ('*T*-1', 'X'), ('posted', 'VERB'), ('a', 'DET'), ('54', 'NUM'), ('%', 'NOUN'), ('drop', 'NOUN'), ('in', 'ADP'), ('net', 'ADJ'), ('income', 'NOUN'), (',', '.'), ('or', 'CONJ'), ('Inland', 'NOUN'), ('Steel', 'NOUN'), ('Industries', 'NOUN'), ('Inc.', 'NOUN'), (',', '.'), ('whose', 'PRON'), ('profit', 'NOUN'), ('*T*-2', 'X'), ('plummeted', 'VERB'), ('70', 'NUM'), ('%', 'NOUN'), ('.', '.')], [('Garret', 'NOUN'), ('Boone', 'NOUN'), (',', '.'), ('who', 'PRON'), ('*T*-11', 'X'), ('teaches', 'VERB'), ('art', 'NOUN'), ('at', 'ADP'), ('Earlham', 'NOUN'), ('College', 'NOUN'), (',', '.'), ('calls', 'VERB'), ('the', 'DET'), ('new', 'ADJ'), ('structure', 'NOUN'), ('``', '.'), ('just', 'ADV'), ('an', 'DET'), ('ugly', 'ADJ'), ('bridge', 'NOUN'), (\"''\", '.'), ('and', 'CONJ'), ('one', 'NUM'), ('that', 'DET'), ('*T*-1', 'X'), ('blocks', 'VERB'), ('the', 'DET'), ('view', 'NOUN'), ('of', 'ADP'), ('a', 'DET'), ('new', 'ADJ'), ('park', 'NOUN'), ('below', 'ADP'), ('.', '.')], [('You', 'PRON'), ('can', 'VERB'), ('do', 'VERB'), ('all', 'DET'), ('this', 'DET'), ('even', 'ADV'), ('if', 'ADP'), ('you', 'PRON'), (\"'re\", 'VERB'), ('not', 'ADV'), ('a', 'DET'), ('reporter', 'NOUN'), ('or', 'CONJ'), ('a', 'DET'), ('researcher', 'NOUN'), ('or', 'CONJ'), ('a', 'DET'), ('scholar', 'NOUN'), ('or', 'CONJ'), ('a', 'DET'), ('member', 'NOUN'), ('of', 'ADP'), ('Congress', 'NOUN'), ('.', '.')]]\n"
     ]
    }
   ],
   "source": [
    "#lets take a look on train data set\n",
    "print(train[:10])"
   ]
  },
  {
   "cell_type": "code",
   "execution_count": 6,
   "metadata": {},
   "outputs": [
    {
     "name": "stdout",
     "output_type": "stream",
     "text": [
      "Size of tagged words: 95779\n",
      "[('It', 'PRON'), ('also', 'ADV'), ('empowers', 'VERB'), ('the', 'DET'), ('president', 'NOUN'), ('to', 'PRT'), ('make', 'VERB'), ('recess', 'NOUN'), ('appointments', 'NOUN'), (',', '.'), ('without', 'ADP'), ('Senate', 'NOUN'), ('approval', 'NOUN'), (':', '.'), ('``', '.'), ('The', 'DET'), ('President', 'NOUN'), ('shall', 'VERB'), ('have', 'VERB'), ('Power', 'NOUN')]\n"
     ]
    }
   ],
   "source": [
    "#lets extract tagged words and take a look into data\n",
    "train_tagged_words = [tup for s in train for tup in s]\n",
    "print(\"Size of tagged words:\",len(train_tagged_words))\n",
    "print(train_tagged_words[:20])"
   ]
  },
  {
   "cell_type": "code",
   "execution_count": 7,
   "metadata": {},
   "outputs": [
    {
     "name": "stdout",
     "output_type": "stream",
     "text": [
      "Size of Vocabulary: 12080\n",
      "Size of Tags: 12\n",
      "All unique tags: {'DET', 'PRON', 'ADJ', 'NOUN', 'ADV', '.', 'CONJ', 'X', 'NUM', 'PRT', 'ADP', 'VERB'}\n"
     ]
    }
   ],
   "source": [
    "#extract vocabulary and its tag from train tagged words\n",
    "V = (set(pair[0] for pair in train_tagged_words))\n",
    "T =   (set(pair[1] for pair in train_tagged_words))\n",
    "G = ((pair[0] for pair in train_tagged_words))\n",
    "print(\"Size of Vocabulary:\",len(V))\n",
    "print(\"Size of Tags:\",len(T))\n",
    "print(\"All unique tags:\",T)"
   ]
  },
  {
   "cell_type": "code",
   "execution_count": 8,
   "metadata": {},
   "outputs": [
    {
     "data": {
      "text/plain": [
       "['It',\n",
       " 'also',\n",
       " 'empowers',\n",
       " 'the',\n",
       " 'president',\n",
       " 'to',\n",
       " 'make',\n",
       " 'recess',\n",
       " 'appointments',\n",
       " ',']"
      ]
     },
     "execution_count": 8,
     "metadata": {},
     "output_type": "execute_result"
    }
   ],
   "source": [
    "#View the first 10 words in the training set\n",
    "tokens = [pair[0] for pair in train_tagged_words]\n",
    "tokens[:10]"
   ]
  },
  {
   "cell_type": "markdown",
   "metadata": {},
   "source": [
    "### Build the vanilla Viterbi based POS tagger"
   ]
  },
  {
   "cell_type": "code",
   "execution_count": 9,
   "metadata": {},
   "outputs": [],
   "source": [
    "#computing P(w/t) and storing in T x V matrix\n",
    "t = len(T)\n",
    "v = len(V)\n",
    "w_given_t = np.zeros((t, v))"
   ]
  },
  {
   "cell_type": "markdown",
   "metadata": {},
   "source": [
    "#### Define Emission Probability Function:"
   ]
  },
  {
   "cell_type": "code",
   "execution_count": 10,
   "metadata": {},
   "outputs": [],
   "source": [
    "#compute word given tag: Emission Probability\n",
    "def word_given_tag(word, tag, train_bag = train_tagged_words):\n",
    "    tag_list = [pair for pair in train_bag if pair[1]==tag]\n",
    "    count_tag = len(tag_list)\n",
    "    w_given_tag_list = [pair[0] for pair in tag_list if pair[0]==word]\n",
    "    count_w_given_tag = len(w_given_tag_list)\n",
    "    \n",
    "    return (count_w_given_tag, count_tag)"
   ]
  },
  {
   "cell_type": "markdown",
   "metadata": {},
   "source": [
    "#### Define Transition Probability Function"
   ]
  },
  {
   "cell_type": "code",
   "execution_count": 11,
   "metadata": {},
   "outputs": [],
   "source": [
    "#compute tag given tag: tag2 (t2) given tag1 (t1), i.e. Transition Probability\n",
    "def t2_given_t1(t2, t1, train_bag = train_tagged_words):\n",
    "    tags = [pair[1] for pair in train_bag]\n",
    "    count_t1 = len([t for t in tags if t==t1])\n",
    "    count_t2_t1 = 0\n",
    "    for index in range(len(tags)-1):\n",
    "        if tags[index]==t1 and tags[index+1] == t2:\n",
    "            count_t2_t1 += 1\n",
    "    return (count_t2_t1, count_t1)"
   ]
  },
  {
   "cell_type": "code",
   "execution_count": 12,
   "metadata": {},
   "outputs": [],
   "source": [
    "# creating t x t transition matrix of tags\n",
    "# each column is t2, each row is t1\n",
    "# thus M(i, j) represents P(tj given ti)\n",
    "tags_matrix = np.zeros((len(T), len(T)), dtype='float32')\n",
    "for i, t1 in enumerate(list(T)):\n",
    "    for j, t2 in enumerate(list(T)): \n",
    "        tags_matrix[i, j] = t2_given_t1(t2, t1)[0]/t2_given_t1(t2, t1)[1]"
   ]
  },
  {
   "cell_type": "code",
   "execution_count": 13,
   "metadata": {},
   "outputs": [
    {
     "data": {
      "text/html": [
       "<div>\n",
       "<style scoped>\n",
       "    .dataframe tbody tr th:only-of-type {\n",
       "        vertical-align: middle;\n",
       "    }\n",
       "\n",
       "    .dataframe tbody tr th {\n",
       "        vertical-align: top;\n",
       "    }\n",
       "\n",
       "    .dataframe thead th {\n",
       "        text-align: right;\n",
       "    }\n",
       "</style>\n",
       "<table border=\"1\" class=\"dataframe\">\n",
       "  <thead>\n",
       "    <tr style=\"text-align: right;\">\n",
       "      <th></th>\n",
       "      <th>DET</th>\n",
       "      <th>PRON</th>\n",
       "      <th>ADJ</th>\n",
       "      <th>NOUN</th>\n",
       "      <th>ADV</th>\n",
       "      <th>.</th>\n",
       "      <th>CONJ</th>\n",
       "      <th>X</th>\n",
       "      <th>NUM</th>\n",
       "      <th>PRT</th>\n",
       "      <th>ADP</th>\n",
       "      <th>VERB</th>\n",
       "    </tr>\n",
       "  </thead>\n",
       "  <tbody>\n",
       "    <tr>\n",
       "      <th>DET</th>\n",
       "      <td>0.005799</td>\n",
       "      <td>0.003382</td>\n",
       "      <td>0.205968</td>\n",
       "      <td>0.638077</td>\n",
       "      <td>0.012563</td>\n",
       "      <td>0.017758</td>\n",
       "      <td>0.000483</td>\n",
       "      <td>0.045059</td>\n",
       "      <td>0.022348</td>\n",
       "      <td>0.000242</td>\n",
       "      <td>0.009302</td>\n",
       "      <td>0.039019</td>\n",
       "    </tr>\n",
       "    <tr>\n",
       "      <th>PRON</th>\n",
       "      <td>0.008806</td>\n",
       "      <td>0.008040</td>\n",
       "      <td>0.073507</td>\n",
       "      <td>0.208270</td>\n",
       "      <td>0.034839</td>\n",
       "      <td>0.040199</td>\n",
       "      <td>0.005360</td>\n",
       "      <td>0.092649</td>\n",
       "      <td>0.007274</td>\n",
       "      <td>0.012251</td>\n",
       "      <td>0.022205</td>\n",
       "      <td>0.486600</td>\n",
       "    </tr>\n",
       "    <tr>\n",
       "      <th>ADJ</th>\n",
       "      <td>0.004428</td>\n",
       "      <td>0.000656</td>\n",
       "      <td>0.067082</td>\n",
       "      <td>0.700180</td>\n",
       "      <td>0.004756</td>\n",
       "      <td>0.065770</td>\n",
       "      <td>0.016894</td>\n",
       "      <td>0.020502</td>\n",
       "      <td>0.020666</td>\n",
       "      <td>0.010333</td>\n",
       "      <td>0.077087</td>\n",
       "      <td>0.011645</td>\n",
       "    </tr>\n",
       "    <tr>\n",
       "      <th>NOUN</th>\n",
       "      <td>0.012951</td>\n",
       "      <td>0.004766</td>\n",
       "      <td>0.012260</td>\n",
       "      <td>0.264152</td>\n",
       "      <td>0.017026</td>\n",
       "      <td>0.240287</td>\n",
       "      <td>0.042637</td>\n",
       "      <td>0.028522</td>\n",
       "      <td>0.009350</td>\n",
       "      <td>0.043946</td>\n",
       "      <td>0.176732</td>\n",
       "      <td>0.147373</td>\n",
       "    </tr>\n",
       "    <tr>\n",
       "      <th>ADV</th>\n",
       "      <td>0.068484</td>\n",
       "      <td>0.014628</td>\n",
       "      <td>0.129654</td>\n",
       "      <td>0.031582</td>\n",
       "      <td>0.078790</td>\n",
       "      <td>0.135306</td>\n",
       "      <td>0.006649</td>\n",
       "      <td>0.023936</td>\n",
       "      <td>0.031915</td>\n",
       "      <td>0.013963</td>\n",
       "      <td>0.119348</td>\n",
       "      <td>0.345745</td>\n",
       "    </tr>\n",
       "    <tr>\n",
       "      <th>.</th>\n",
       "      <td>0.172163</td>\n",
       "      <td>0.066768</td>\n",
       "      <td>0.044721</td>\n",
       "      <td>0.222710</td>\n",
       "      <td>0.052160</td>\n",
       "      <td>0.093207</td>\n",
       "      <td>0.057985</td>\n",
       "      <td>0.027066</td>\n",
       "      <td>0.081197</td>\n",
       "      <td>0.002330</td>\n",
       "      <td>0.091593</td>\n",
       "      <td>0.088009</td>\n",
       "    </tr>\n",
       "    <tr>\n",
       "      <th>CONJ</th>\n",
       "      <td>0.117975</td>\n",
       "      <td>0.059452</td>\n",
       "      <td>0.116582</td>\n",
       "      <td>0.350673</td>\n",
       "      <td>0.053414</td>\n",
       "      <td>0.035300</td>\n",
       "      <td>0.000464</td>\n",
       "      <td>0.008360</td>\n",
       "      <td>0.042267</td>\n",
       "      <td>0.005109</td>\n",
       "      <td>0.053878</td>\n",
       "      <td>0.156526</td>\n",
       "    </tr>\n",
       "    <tr>\n",
       "      <th>X</th>\n",
       "      <td>0.055201</td>\n",
       "      <td>0.055680</td>\n",
       "      <td>0.017071</td>\n",
       "      <td>0.062540</td>\n",
       "      <td>0.025367</td>\n",
       "      <td>0.162891</td>\n",
       "      <td>0.010370</td>\n",
       "      <td>0.074665</td>\n",
       "      <td>0.002712</td>\n",
       "      <td>0.182833</td>\n",
       "      <td>0.146299</td>\n",
       "      <td>0.204371</td>\n",
       "    </tr>\n",
       "    <tr>\n",
       "      <th>NUM</th>\n",
       "      <td>0.003837</td>\n",
       "      <td>0.001476</td>\n",
       "      <td>0.032763</td>\n",
       "      <td>0.352420</td>\n",
       "      <td>0.002952</td>\n",
       "      <td>0.114817</td>\n",
       "      <td>0.012987</td>\n",
       "      <td>0.212515</td>\n",
       "      <td>0.185950</td>\n",
       "      <td>0.027155</td>\n",
       "      <td>0.035419</td>\n",
       "      <td>0.017710</td>\n",
       "    </tr>\n",
       "    <tr>\n",
       "      <th>PRT</th>\n",
       "      <td>0.102034</td>\n",
       "      <td>0.017388</td>\n",
       "      <td>0.085958</td>\n",
       "      <td>0.248688</td>\n",
       "      <td>0.009843</td>\n",
       "      <td>0.043963</td>\n",
       "      <td>0.002297</td>\n",
       "      <td>0.014108</td>\n",
       "      <td>0.057087</td>\n",
       "      <td>0.001640</td>\n",
       "      <td>0.020013</td>\n",
       "      <td>0.396982</td>\n",
       "    </tr>\n",
       "    <tr>\n",
       "      <th>ADP</th>\n",
       "      <td>0.324140</td>\n",
       "      <td>0.068896</td>\n",
       "      <td>0.106272</td>\n",
       "      <td>0.322330</td>\n",
       "      <td>0.013843</td>\n",
       "      <td>0.040145</td>\n",
       "      <td>0.000958</td>\n",
       "      <td>0.034395</td>\n",
       "      <td>0.062720</td>\n",
       "      <td>0.001384</td>\n",
       "      <td>0.016612</td>\n",
       "      <td>0.008306</td>\n",
       "    </tr>\n",
       "    <tr>\n",
       "      <th>VERB</th>\n",
       "      <td>0.134135</td>\n",
       "      <td>0.035376</td>\n",
       "      <td>0.064856</td>\n",
       "      <td>0.110628</td>\n",
       "      <td>0.081691</td>\n",
       "      <td>0.035376</td>\n",
       "      <td>0.005198</td>\n",
       "      <td>0.217067</td>\n",
       "      <td>0.023119</td>\n",
       "      <td>0.031652</td>\n",
       "      <td>0.091311</td>\n",
       "      <td>0.169589</td>\n",
       "    </tr>\n",
       "  </tbody>\n",
       "</table>\n",
       "</div>"
      ],
      "text/plain": [
       "           DET      PRON       ADJ      NOUN       ADV         .      CONJ  \\\n",
       "DET   0.005799  0.003382  0.205968  0.638077  0.012563  0.017758  0.000483   \n",
       "PRON  0.008806  0.008040  0.073507  0.208270  0.034839  0.040199  0.005360   \n",
       "ADJ   0.004428  0.000656  0.067082  0.700180  0.004756  0.065770  0.016894   \n",
       "NOUN  0.012951  0.004766  0.012260  0.264152  0.017026  0.240287  0.042637   \n",
       "ADV   0.068484  0.014628  0.129654  0.031582  0.078790  0.135306  0.006649   \n",
       ".     0.172163  0.066768  0.044721  0.222710  0.052160  0.093207  0.057985   \n",
       "CONJ  0.117975  0.059452  0.116582  0.350673  0.053414  0.035300  0.000464   \n",
       "X     0.055201  0.055680  0.017071  0.062540  0.025367  0.162891  0.010370   \n",
       "NUM   0.003837  0.001476  0.032763  0.352420  0.002952  0.114817  0.012987   \n",
       "PRT   0.102034  0.017388  0.085958  0.248688  0.009843  0.043963  0.002297   \n",
       "ADP   0.324140  0.068896  0.106272  0.322330  0.013843  0.040145  0.000958   \n",
       "VERB  0.134135  0.035376  0.064856  0.110628  0.081691  0.035376  0.005198   \n",
       "\n",
       "             X       NUM       PRT       ADP      VERB  \n",
       "DET   0.045059  0.022348  0.000242  0.009302  0.039019  \n",
       "PRON  0.092649  0.007274  0.012251  0.022205  0.486600  \n",
       "ADJ   0.020502  0.020666  0.010333  0.077087  0.011645  \n",
       "NOUN  0.028522  0.009350  0.043946  0.176732  0.147373  \n",
       "ADV   0.023936  0.031915  0.013963  0.119348  0.345745  \n",
       ".     0.027066  0.081197  0.002330  0.091593  0.088009  \n",
       "CONJ  0.008360  0.042267  0.005109  0.053878  0.156526  \n",
       "X     0.074665  0.002712  0.182833  0.146299  0.204371  \n",
       "NUM   0.212515  0.185950  0.027155  0.035419  0.017710  \n",
       "PRT   0.014108  0.057087  0.001640  0.020013  0.396982  \n",
       "ADP   0.034395  0.062720  0.001384  0.016612  0.008306  \n",
       "VERB  0.217067  0.023119  0.031652  0.091311  0.169589  "
      ]
     },
     "execution_count": 13,
     "metadata": {},
     "output_type": "execute_result"
    }
   ],
   "source": [
    "#convert the matrix to a dataframe for better readability\n",
    "tags_df = pd.DataFrame(tags_matrix, columns = list(T), index=list(T))\n",
    "tags_df"
   ]
  },
  {
   "cell_type": "code",
   "execution_count": 14,
   "metadata": {},
   "outputs": [
    {
     "data": {
      "text/plain": [
       "DET     0.172163\n",
       "PRON    0.066768\n",
       "ADJ     0.044721\n",
       "NOUN    0.222710\n",
       "ADV     0.052160\n",
       ".       0.093207\n",
       "CONJ    0.057985\n",
       "X       0.027066\n",
       "NUM     0.081197\n",
       "PRT     0.002330\n",
       "ADP     0.091593\n",
       "VERB    0.088009\n",
       "Name: ., dtype: float32"
      ]
     },
     "execution_count": 14,
     "metadata": {},
     "output_type": "execute_result"
    }
   ],
   "source": [
    "tags_df.loc['.', :]"
   ]
  },
  {
   "cell_type": "code",
   "execution_count": 16,
   "metadata": {},
   "outputs": [
    {
     "data": {
      "image/png": "[encoded data removed]",
      "text/plain": [
       "<Figure size 1296x864 with 2 Axes>"
      ]
     },
     "metadata": {
      "needs_background": "light"
     },
     "output_type": "display_data"
    }
   ],
   "source": [
    "# heatmap of tags matrix - Lets visualize transition probabilities as heat map\n",
    "# T(i, j) indicates P(tag j given tag i)\n",
    "import matplotlib.pyplot as plt\n",
    "import seaborn as sns\n",
    "plt.figure(figsize=(18, 12))\n",
    "sns.heatmap(tags_df)\n",
    "plt.show()"
   ]
  },
  {
   "cell_type": "code",
   "execution_count": 17,
   "metadata": {},
   "outputs": [
    {
     "data": {
      "image/png": "[encoded data removed]",
      "text/plain": [
       "<Figure size 1296x864 with 2 Axes>"
      ]
     },
     "metadata": {
      "needs_background": "light"
     },
     "output_type": "display_data"
    }
   ],
   "source": [
    "# frequent tags where transition probabilities are greater than 0.5\n",
    "# filter the df to get P(t2, t1) > 0.5\n",
    "tags_frequent = tags_df[tags_df>0.5]\n",
    "plt.figure(figsize=(18, 12))\n",
    "sns.heatmap(tags_frequent)\n",
    "plt.show()"
   ]
  },
  {
   "cell_type": "markdown",
   "metadata": {},
   "source": [
    "- Above heat map indicates that transition probability of Noun given Adjective and Noun given DET is more than 0.5."
   ]
  },
  {
   "cell_type": "code",
   "execution_count": 18,
   "metadata": {},
   "outputs": [
    {
     "name": "stdout",
     "output_type": "stream",
     "text": [
      "Total size of Train Tagged Words : 95779\n"
     ]
    }
   ],
   "source": [
    "#lets again look into size of trainng tagged words\n",
    "print(\"Total size of Train Tagged Words :\",len(train_tagged_words))"
   ]
  },
  {
   "cell_type": "markdown",
   "metadata": {},
   "source": [
    "## Vanilla Viterbi Algorithm Implementation\n",
    "\n",
    "Steps:\n",
    "\n",
    "- Use the computed probabilities P(w, tag) emission and P(t2, t1) transition to assign tags to each word in the document. \n",
    "- Run through each word w and compute state probability P(tag/w)=P(w/tag).P(tag) for each tag in the tag set, \n",
    "- and then assign the tag having the max P(tag/w) state probability.\n",
    "- Store the assigned tags in a list of tuples, similar to the list 'train_tagged_words'. Each tuple will be a (token, assigned_tag). As we progress further in the list, each tag to be assigned will use the tag of the previous token.\n",
    "\n",
    "- Note: P(tag|start) = P(tag|'.') "
   ]
  },
  {
   "cell_type": "code",
   "execution_count": 19,
   "metadata": {},
   "outputs": [],
   "source": [
    "# Viterbi Heuristic\n",
    "def Viterbi(words, train_bag = train_tagged_words):\n",
    "    state = []\n",
    "    T = list(set([pair[1] for pair in train_bag]))\n",
    "    \n",
    "    for key, word in enumerate(words):\n",
    "        #initialise list of probability column for a given observation\n",
    "        p = [] \n",
    "        for tag in T:\n",
    "            if key == 0:\n",
    "                transition_p = tags_df.loc['.', tag]\n",
    "            else:\n",
    "                transition_p = tags_df.loc[state[-1], tag]\n",
    "                \n",
    "            # compute emission and state probabilities\n",
    "            emission_p = word_given_tag(words[key], tag)[0]/word_given_tag(words[key], tag)[1]\n",
    "            state_probability = emission_p * transition_p    \n",
    "            p.append(state_probability)\n",
    "            \n",
    "        pmax = max(p)\n",
    "        # getting state for which probability is maximum\n",
    "        state_max = T[p.index(pmax)] \n",
    "        state.append(state_max)\n",
    "    return list(zip(words, state))"
   ]
  },
  {
   "cell_type": "code",
   "execution_count": 20,
   "metadata": {},
   "outputs": [],
   "source": [
    "# Running on entire validation dataset is taking close to 30 minutes of time.\n",
    "# Let's test our vanilla Viterbi algorithm on a validation dataset\n",
    "\n",
    "# list of tagged words means words along with their tags\n",
    "val_run_base = [tup for sent in validation for tup in sent]\n",
    "\n",
    "# list of untagged words means only words and no tags\n",
    "val_tagged_words = [tup[0] for sent in validation for tup in sent]"
   ]
  },
  {
   "cell_type": "code",
   "execution_count": 21,
   "metadata": {},
   "outputs": [],
   "source": [
    "# tagging the validation dataset sentences using vanilla viterbi algorithm\n",
    "start = time.time()\n",
    "vanilla_tagged_seq = Viterbi(val_tagged_words)\n",
    "end = time.time()\n",
    "difference = end-start"
   ]
  },
  {
   "cell_type": "code",
   "execution_count": 22,
   "metadata": {},
   "outputs": [
    {
     "name": "stdout",
     "output_type": "stream",
     "text": [
      "1141.4168570041656\n"
     ]
    }
   ],
   "source": [
    "#total time taken to train the vanilla viterbi algorithm\n",
    "print(difference)"
   ]
  },
  {
   "cell_type": "code",
   "execution_count": 23,
   "metadata": {},
   "outputs": [
    {
     "name": "stdout",
     "output_type": "stream",
     "text": [
      "Accuracy: 0.9056565244026955\n"
     ]
    }
   ],
   "source": [
    "#lets compute accuracy with viterbi algoritham\n",
    "check = [i for i, j in zip(vanilla_tagged_seq, val_run_base) if i == j] \n",
    "accuracy = len(check)/len(vanilla_tagged_seq)\n",
    "print(\"Accuracy:\",accuracy)"
   ]
  },
  {
   "cell_type": "markdown",
   "metadata": {},
   "source": [
    "#### We got more than 90% of accuracy with the vanilla Viterbi algorithm. \n",
    "- There are many words which are not tagged correctly with vanilla version of viterbi algorithm.\n",
    "- Lets proceed further & work towards improving its accuracy.\n",
    "- Identify ways to tag unknown words.\n"
   ]
  },
  {
   "cell_type": "code",
   "execution_count": 24,
   "metadata": {},
   "outputs": [
    {
     "data": {
      "text/plain": [
       "[[('at', 'ADP'), (('American', 'ADJ'), ('American', 'NOUN'))],\n",
       " [('companies', 'NOUN'), (('that', 'ADP'), ('that', 'DET'))],\n",
       " [('be', 'VERB'), (('less', 'ADJ'), ('less', 'ADV'))],\n",
       " [('sink', 'VERB'), (('up', 'ADV'), ('up', 'ADP'))],\n",
       " [('for', 'ADP'), (('overnight', 'DET'), ('overnight', 'ADJ'))],\n",
       " [('first', 'ADJ'), (('half', 'NOUN'), ('half', 'DET'))],\n",
       " [('to', 'PRT'), (('88.32', 'DET'), ('88.32', 'NUM'))],\n",
       " [('$', '.'), (('618.1', 'DET'), ('618.1', 'NUM'))],\n",
       " [('from', 'ADP'), (('77.6', 'DET'), ('77.6', 'NUM'))],\n",
       " [('year', 'NOUN'), (('earlier', 'ADV'), ('earlier', 'ADJ'))],\n",
       " [('team', 'NOUN'), (('that', 'ADP'), ('that', 'DET'))],\n",
       " [('Mercury', 'NOUN'), (('Sable', 'DET'), ('Sable', 'NOUN'))],\n",
       " [('*-2', 'X'), (('experiencing', 'DET'), ('experiencing', 'VERB'))],\n",
       " [('publicly', 'ADV'), (('apologizing', 'DET'), ('apologizing', 'VERB'))],\n",
       " [('*', 'X'), (('indulging', 'DET'), ('indulging', 'VERB'))],\n",
       " [('.', '.'), (('Municipal', 'NOUN'), ('Municipal', 'ADJ'))],\n",
       " [('demand', 'NOUN'), (('that', 'ADP'), ('that', 'DET'))],\n",
       " [(',', '.'), (('regardless', 'DET'), ('regardless', 'ADV'))],\n",
       " [('to', 'PRT'), (('sue', 'DET'), ('sue', 'VERB'))],\n",
       " [('The', 'DET'), (('combined', 'ADJ'), ('combined', 'VERB'))],\n",
       " [('State', 'NOUN'), (('Glass', 'DET'), ('Glass', 'NOUN'))],\n",
       " [('of', 'ADP'), (('Warrenton', 'DET'), ('Warrenton', 'NOUN'))],\n",
       " [('small', 'ADJ'), (('fabricator', 'DET'), ('fabricator', 'NOUN'))],\n",
       " [('of', 'ADP'), (('architectural', 'DET'), ('architectural', 'ADJ'))],\n",
       " [('was', 'VERB'), (('foundering', 'DET'), ('foundering', 'VERB'))],\n",
       " [('The', 'DET'), (('purchasing', 'NOUN'), ('purchasing', 'VERB'))],\n",
       " [('Your', 'PRON'), (('comments', 'VERB'), ('comments', 'NOUN'))],\n",
       " [('comments', 'NOUN'), (('implied', 'DET'), ('implied', 'VERB'))],\n",
       " [('``', '.'), (('principal', 'NOUN'), ('principal', 'ADJ'))],\n",
       " [('principal', 'ADJ'), (('cause', 'VERB'), ('cause', 'NOUN'))],\n",
       " [('and', 'CONJ'),\n",
       "  (('substance-abusing', 'DET'), ('substance-abusing', 'ADJ'))],\n",
       " [('of', 'ADP'), (('2163.2', 'DET'), ('2163.2', 'NUM'))],\n",
       " [('last', 'ADJ'), (('half-hour', 'ADJ'), ('half-hour', 'NOUN'))],\n",
       " [('NBI', 'NOUN'), (('common', 'ADJ'), ('common', 'NOUN'))],\n",
       " [('at', 'ADP'), (('93', 'DET'), ('93', 'NUM'))],\n",
       " [(',', '.'), (('up', 'ADV'), ('up', 'ADP'))],\n",
       " [('.', '.'), (('Cataracts', 'DET'), ('Cataracts', 'NOUN'))],\n",
       " [('Cataracts', 'NOUN'), (('refer', 'DET'), ('refer', 'VERB'))],\n",
       " [('a', 'DET'), (('clouding', 'DET'), ('clouding', 'NOUN'))],\n",
       " [('taken', 'VERB'), (('up', 'ADV'), ('up', 'PRT'))],\n",
       " [('with', 'ADP'), (('endless', 'DET'), ('endless', 'ADJ'))],\n",
       " [('or', 'CONJ'), (('eating', 'DET'), ('eating', 'VERB'))],\n",
       " [('and', 'CONJ'), (('drinking', 'DET'), ('drinking', 'VERB'))],\n",
       " [('to', 'PRT'), (('celebrate', 'DET'), ('celebrate', 'VERB'))],\n",
       " [('$', '.'), (('20.07', 'DET'), ('20.07', 'NUM'))],\n",
       " [('to', 'PRT'), (('repay', 'DET'), ('repay', 'VERB'))],\n",
       " [('not', 'ADV'), (('expressly', 'DET'), ('expressly', 'ADV'))],\n",
       " [('$', '.'), (('576', 'DET'), ('576', 'NUM'))],\n",
       " [('already', 'ADV'), (('own', 'ADJ'), ('own', 'VERB'))],\n",
       " [('buy', 'VERB'), (('more', 'ADV'), ('more', 'ADJ'))],\n",
       " [('point', 'NOUN'), (('off', 'PRT'), ('off', 'ADP'))],\n",
       " [('advertised', 'VERB'), (('finance', 'VERB'), ('finance', 'NOUN'))],\n",
       " [('take', 'VERB'), (('much', 'ADV'), ('much', 'ADJ'))],\n",
       " [('get', 'VERB'), (('burned', 'DET'), ('burned', 'VERB'))],\n",
       " [('would', 'VERB'), (('refile', 'DET'), ('refile', 'VERB'))],\n",
       " [('an', 'DET'), (('expedited', 'DET'), ('expedited', 'VERB'))],\n",
       " [('the', 'DET'), (('FERC', 'DET'), ('FERC', 'NOUN'))],\n",
       " [('FERC', 'NOUN'), (('so', 'ADV'), ('so', 'ADP'))],\n",
       " [('the', 'DET'), (('one', 'NUM'), ('one', 'NOUN'))],\n",
       " [('no', 'DET'), (('crack', 'VERB'), ('crack', 'NOUN'))],\n",
       " [('no', 'DET'), (('dead-eyed', 'DET'), ('dead-eyed', 'ADJ'))],\n",
       " [('selling', 'VERB'), (('four-year-old', 'DET'), ('four-year-old', 'ADJ'))],\n",
       " [('of', 'ADP'), (('Cosmopolitan', 'DET'), ('Cosmopolitan', 'NOUN'))],\n",
       " [('no', 'DET'), (('one', 'NUM'), ('one', 'PRON'))],\n",
       " [('one', 'PRON'), (('curled', 'DET'), ('curled', 'VERB'))],\n",
       " [('curled', 'VERB'), (('up', 'ADV'), ('up', 'PRT'))],\n",
       " [('investors', 'NOUN'), (('acquires', 'DET'), ('acquires', 'VERB'))],\n",
       " [('the', 'DET'), (('expectation', 'DET'), ('expectation', 'NOUN'))],\n",
       " [('funds', 'NOUN'), (('generated', 'DET'), ('generated', 'VERB'))],\n",
       " [('to', 'PRT'), (('falsify', 'DET'), ('falsify', 'VERB'))],\n",
       " [('guards', 'NOUN'), (('there', 'DET'), ('there', 'ADV'))],\n",
       " [('their', 'PRON'), (('pistols', 'DET'), ('pistols', 'NOUN'))],\n",
       " [('of', 'ADP'), (('plainclothes', 'DET'), ('plainclothes', 'NOUN'))],\n",
       " [('remained', 'VERB'), (('nearby', 'ADJ'), ('nearby', 'ADV'))],\n",
       " [('in', 'ADP'), (('unmarked', 'DET'), ('unmarked', 'ADJ'))],\n",
       " [('trade', 'NOUN'), (('act', 'VERB'), ('act', 'NOUN'))],\n",
       " [('to', 'PRT'), (('issue', 'NOUN'), ('issue', 'VERB'))],\n",
       " [('the', 'DET'), (('start-up', 'ADJ'), ('start-up', 'NOUN'))],\n",
       " [('.', '.'), (('Typical', 'DET'), ('Typical', 'ADJ'))],\n",
       " [(':', '.'), (('8.60', 'DET'), ('8.60', 'NUM'))],\n",
       " [(';', '.'), (('8.35', 'DET'), ('8.35', 'NUM'))],\n",
       " [(\"'s\", 'PRT'), (('nervousness', 'DET'), ('nervousness', 'NOUN'))],\n",
       " [('Ministry', 'NOUN'), (('devoted', 'DET'), ('devoted', 'VERB'))],\n",
       " [('half-hour', 'ADJ'), (('briefing', 'DET'), ('briefing', 'NOUN'))],\n",
       " [('foreign', 'ADJ'), (('journalists', 'DET'), ('journalists', 'NOUN'))],\n",
       " [('the', 'DET'), (('subject', 'ADJ'), ('subject', 'NOUN'))],\n",
       " [('the', 'DET'), (('Equal', 'DET'), ('Equal', 'NOUN'))],\n",
       " [('Equal', 'NOUN'), (('Employment', 'DET'), ('Employment', 'NOUN'))],\n",
       " [('Employment', 'NOUN'), (('Opportunity', 'DET'), ('Opportunity', 'NOUN'))],\n",
       " [('.', '.'), (('Earlier', 'ADJ'), ('Earlier', 'ADV'))],\n",
       " [('of', 'ADP'), (('American', 'ADJ'), ('American', 'NOUN'))],\n",
       " [('from', 'ADP'), (('E.W.', 'DET'), ('E.W.', 'NOUN'))],\n",
       " [('E.W.', 'NOUN'), (('Scripps', 'DET'), ('Scripps', 'NOUN'))],\n",
       " [('Co.', 'NOUN'), (('next', 'ADP'), ('next', 'ADJ'))],\n",
       " [('which', 'DET'), (('*T*-116', 'DET'), ('*T*-116', 'X'))],\n",
       " [('jumped', 'VERB'), (('3.23', 'DET'), ('3.23', 'NUM'))],\n",
       " [('to', 'PRT'), (('436.01', 'DET'), ('436.01', 'NUM'))],\n",
       " [('see', 'VERB'), (('little', 'ADV'), ('little', 'ADJ'))],\n",
       " [('.', '.'), (('Indexing', 'DET'), ('Indexing', 'NOUN'))],\n",
       " [('stock-market', 'NOUN'), (('barometer', 'DET'), ('barometer', 'NOUN'))],\n",
       " [('presented', 'VERB'), (('claims', 'VERB'), ('claims', 'NOUN'))],\n",
       " [('$', '.'), (('45.2', 'DET'), ('45.2', 'NUM'))],\n",
       " [('$', '.'), (('84.9', 'DET'), ('84.9', 'NUM'))],\n",
       " [('$', '.'), (('1.24', 'DET'), ('1.24', 'NUM'))],\n",
       " [('year', 'NOUN'), (('earlier', 'ADV'), ('earlier', 'ADJ'))],\n",
       " [('*T*-1', 'X'), (('Chuck', 'DET'), ('Chuck', 'NOUN'))],\n",
       " [('Chuck', 'NOUN'), (('Hurley', 'DET'), ('Hurley', 'NOUN'))],\n",
       " [('of', 'ADP'), (('communications', 'DET'), ('communications', 'NOUN'))],\n",
       " [('push', 'VERB'), (('up', 'ADV'), ('up', 'ADP'))],\n",
       " [('abortionist', 'NOUN'), (('accidentally', 'DET'), ('accidentally', 'ADV'))],\n",
       " [('it', 'PRON'), (('enabled', 'DET'), ('enabled', 'VERB'))],\n",
       " [('buy', 'VERB'), (('jam', 'DET'), ('jam', 'NOUN'))],\n",
       " [(',', '.'), (('cocoa', 'DET'), ('cocoa', 'NOUN'))],\n",
       " [('other', 'ADJ'), (('war-rationed', 'DET'), ('war-rationed', 'ADJ'))],\n",
       " [('war-rationed', 'ADJ'), (('goodies', 'DET'), ('goodies', 'NOUN'))],\n",
       " [('at', 'ADP'), (('14.53', 'DET'), ('14.53', 'NUM'))],\n",
       " [('up', 'ADV'), (('0.56', 'DET'), ('0.56', 'NUM'))],\n",
       " [('--', '.'), (('in', 'ADP'), ('in', 'NOUN'))],\n",
       " [(',', '.'), (('1933', 'DET'), ('1933', 'NUM'))],\n",
       " [(',', '.'), (('1961', 'DET'), ('1961', 'NUM'))],\n",
       " [(',', '.'), (('1965', 'DET'), ('1965', 'NUM'))],\n",
       " [(',', '.'), (('1968', 'DET'), ('1968', 'NUM'))],\n",
       " [('*', 'X'), (('Being', 'DET'), ('Being', 'VERB'))],\n",
       " [('the', 'DET'), (('37-year-old', 'DET'), ('37-year-old', 'ADJ'))],\n",
       " [('her', 'PRON'), (('dismissal', 'DET'), ('dismissal', 'NOUN'))],\n",
       " [('Late', 'ADV'), (('that', 'ADP'), ('that', 'DET'))],\n",
       " [('500', 'NUM'), (('stock-index', 'NOUN'), ('stock-index', 'ADJ'))],\n",
       " [('a', 'DET'), (('total', 'ADJ'), ('total', 'NOUN'))],\n",
       " [('limit', 'NOUN'), (('that', 'ADP'), ('that', 'DET'))],\n",
       " [('that', 'DET'), (('*T*-210', 'DET'), ('*T*-210', 'X'))],\n",
       " [('its', 'PRON'), (('liabilities', 'DET'), ('liabilities', 'NOUN'))],\n",
       " [('.', '.'), (('NCR', 'DET'), ('NCR', 'NOUN'))],\n",
       " [('its', 'PRON'), (('Tower', 'DET'), ('Tower', 'NOUN'))],\n",
       " [('of', 'ADP'), (('midrange', 'DET'), ('midrange', 'ADJ'))],\n",
       " [('advanced', 'VERB'), (('networking', 'DET'), ('networking', 'NOUN'))],\n",
       " [('the', 'DET'), (('Tower', 'DET'), ('Tower', 'NOUN'))],\n",
       " [('central', 'ADJ'), (('hub', 'DET'), ('hub', 'NOUN'))],\n",
       " [('the', 'DET'), (('flightiness', 'DET'), ('flightiness', 'NOUN'))],\n",
       " [('will', 'VERB'), (('diminish', 'DET'), ('diminish', 'VERB'))],\n",
       " [('the', 'DET'), (('East', 'NOUN'), ('East', 'ADJ'))],\n",
       " [('East', 'ADJ'), (('Anglian', 'DET'), ('Anglian', 'ADJ'))],\n",
       " [('group', 'NOUN'), (('that', 'ADP'), ('that', 'DET'))],\n",
       " [('that', 'DET'), (('*T*-223', 'DET'), ('*T*-223', 'X'))],\n",
       " [('bells', 'NOUN'), (('pealing', 'DET'), ('pealing', 'VERB'))],\n",
       " [('to', 'PRT'), (('coordinate', 'DET'), ('coordinate', 'VERB'))],\n",
       " [('sometimes', 'ADV'), (('deliberately', 'DET'), ('deliberately', 'ADV'))],\n",
       " [('deliberately', 'ADV'), (('disconnect', 'DET'), ('disconnect', 'VERB'))],\n",
       " [('of', 'ADP'), (('heightened', 'DET'), ('heightened', 'VERB'))],\n",
       " [('.', '.'), (('Longer', 'DET'), ('Longer', 'ADJ'))],\n",
       " [('which', 'DET'), (('flows', 'NOUN'), ('flows', 'VERB'))],\n",
       " [('*T*-1', 'X'), (('much', 'ADV'), ('much', 'ADJ'))],\n",
       " [('corn', 'NOUN'), (('that', 'ADP'), ('that', 'DET'))],\n",
       " [('*', 'X'), (('denouncing', 'DET'), ('denouncing', 'VERB'))],\n",
       " [('*', 'X'), (('denouncing', 'DET'), ('denouncing', 'VERB'))],\n",
       " [('denouncing', 'VERB'), (('capitalism', 'DET'), ('capitalism', 'NOUN'))],\n",
       " [('*T*-1', 'X'), ((\"'s\", 'PRT'), (\"'s\", 'VERB'))],\n",
       " [('$', '.'), (('877,663', 'DET'), ('877,663', 'NUM'))],\n",
       " [('The', 'DET'), (('following', 'NOUN'), ('following', 'VERB'))],\n",
       " [(\"'s\", 'PRT'), (('offerings', 'DET'), ('offerings', 'NOUN'))],\n",
       " [('and', 'CONJ'), (('pricings', 'DET'), ('pricings', 'NOUN'))],\n",
       " [('and', 'CONJ'), (('non-U.S.', 'DET'), ('non-U.S.', 'NOUN'))],\n",
       " [('and', 'CONJ'), (('syndicate', 'DET'), ('syndicate', 'NOUN'))],\n",
       " [('has', 'VERB'), (('minted', 'DET'), ('minted', 'VERB'))],\n",
       " [('of', 'ADP'), (('millionaires', 'DET'), ('millionaires', 'NOUN'))],\n",
       " [('their', 'PRON'), (('20s', 'DET'), ('20s', 'NUM'))],\n",
       " [('and', 'CONJ'), (('30s', 'DET'), ('30s', 'NUM'))],\n",
       " [('Texas', 'NOUN'), (('Instruments', 'DET'), ('Instruments', 'NOUN'))],\n",
       " [('Texas', 'NOUN'), (('Instruments', 'DET'), ('Instruments', 'NOUN'))],\n",
       " [('.', '.'), (('Herbert', 'DET'), ('Herbert', 'NOUN'))],\n",
       " [('the', 'DET'), (('53-year-old', 'DET'), ('53-year-old', 'ADJ'))],\n",
       " [('and', 'CONJ'), (('Edwin', 'DET'), ('Edwin', 'NOUN'))],\n",
       " [('*-1', 'X'), (('dividing', 'DET'), ('dividing', 'VERB'))],\n",
       " [(\"n't\", 'ADV'), (('there', 'DET'), ('there', 'ADV'))],\n",
       " [('you', 'PRON'), (('photocopy', 'DET'), ('photocopy', 'VERB'))],\n",
       " [('.', '.'), (('Yet', 'CONJ'), ('Yet', 'ADV'))],\n",
       " [('Marie-Louise', 'NOUN'), (('Giraud', 'DET'), ('Giraud', 'NOUN'))],\n",
       " [('historical', 'ADJ'), (('significance', 'DET'), ('significance', 'NOUN'))],\n",
       " [(\"'s\", 'PRT'), (('hypocrisy', 'DET'), ('hypocrisy', 'NOUN'))],\n",
       " [('who', 'PRON'), (('*T*-91', 'DET'), ('*T*-91', 'X'))],\n",
       " [('a', 'DET'), (('grandstander', 'DET'), ('grandstander', 'NOUN'))],\n",
       " [('loss', 'NOUN'), (('equals', 'DET'), ('equals', 'VERB'))],\n",
       " [('equals', 'VERB'), (('86', 'DET'), ('86', 'NUM'))],\n",
       " [('.', '.'), (('Prior', 'DET'), ('Prior', 'ADV'))],\n",
       " [('teacher', 'NOUN'), (('bled', 'DET'), ('bled', 'VERB'))],\n",
       " [('the', 'DET'), (('halls', 'DET'), ('halls', 'NOUN'))],\n",
       " [('*-1', 'X'), (('stabbed', 'DET'), ('stabbed', 'VERB'))],\n",
       " [('to', 'PRT'), (('speculate', 'DET'), ('speculate', 'VERB'))],\n",
       " [('the', 'DET'), (('heirs', 'DET'), ('heirs', 'NOUN'))],\n",
       " [('tumbled', 'VERB'), (('down', 'ADV'), ('down', 'ADP'))],\n",
       " [('a', 'DET'), (('slippery', 'DET'), ('slippery', 'ADJ'))],\n",
       " [('slippery', 'ADJ'), (('slope', 'DET'), ('slope', 'NOUN'))],\n",
       " [('``', '.'), (('evolved', 'DET'), ('evolved', 'VERB'))],\n",
       " [('with', 'ADP'), (('Si', 'DET'), ('Si', 'NOUN'))],\n",
       " [('*T*-1', 'X'), (('Lyle', 'DET'), ('Lyle', 'NOUN'))],\n",
       " [('of', 'ADP'), (('Waterloo', 'DET'), ('Waterloo', 'NOUN'))],\n",
       " [('are', 'VERB'), (('apprehensive', 'DET'), ('apprehensive', 'ADJ'))],\n",
       " [('Tokyo', 'NOUN'), (('step', 'NOUN'), ('step', 'VERB'))],\n",
       " [('are', 'VERB'), (('insured', 'DET'), ('insured', 'VERB'))],\n",
       " [('and', 'CONJ'), (('triple-A-rated', 'DET'), ('triple-A-rated', 'ADJ'))],\n",
       " [('fallen', 'VERB'), (('short', 'ADJ'), ('short', 'ADV'))],\n",
       " [('was', 'VERB'), (('appropriated', 'DET'), ('appropriated', 'VERB'))],\n",
       " [('*-4', 'X'), (('referring', 'DET'), ('referring', 'VERB'))],\n",
       " [('``', '.'), (('queers', 'DET'), ('queers', 'NOUN'))],\n",
       " [('been', 'VERB'), (('cruising', 'DET'), ('cruising', 'VERB'))],\n",
       " [('*-3', 'X'), (('picking', 'DET'), ('picking', 'VERB'))],\n",
       " [('picking', 'VERB'), (('up', 'ADV'), ('up', 'PRT'))],\n",
       " [('up', 'PRT'), (('teenage', 'DET'), ('teenage', 'ADJ'))],\n",
       " [('of', 'ADP'), (('rusted', 'DET'), ('rusted', 'VERB'))],\n",
       " [('oil', 'NOUN'), (('drums', 'DET'), ('drums', 'NOUN'))],\n",
       " [('drums', 'NOUN'), (('swim', 'DET'), ('swim', 'VERB'))],\n",
       " [('voice', 'NOUN'), (('purrs', 'DET'), ('purrs', 'VERB'))],\n",
       " [('the', 'DET'), (('neighbors', 'DET'), ('neighbors', 'NOUN'))],\n",
       " [('attack', 'NOUN'), (('commercials', 'DET'), ('commercials', 'NOUN'))],\n",
       " [('commercials', 'NOUN'), (('that', 'ADP'), ('that', 'DET'))],\n",
       " [('convertible', 'ADJ'), (('preferred', 'ADJ'), ('preferred', 'VERB'))],\n",
       " [('$', '.'), (('737.5', 'DET'), ('737.5', 'NUM'))],\n",
       " [('$', '.'), (('3.01', 'DET'), ('3.01', 'NUM'))],\n",
       " [('West', 'NOUN'), (('Groton', 'DET'), ('Groton', 'NOUN'))],\n",
       " [('selling', 'VERB'), (('non-core', 'DET'), ('non-core', 'ADJ'))],\n",
       " [('when', 'ADV'),\n",
       "  (('Minneapolis-based', 'DET'), ('Minneapolis-based', 'ADJ'))],\n",
       " [('Research', 'NOUN'), (('first', 'ADJ'), ('first', 'ADV'))],\n",
       " [('*T*-42', 'X'), (('saved', 'DET'), ('saved', 'VERB'))],\n",
       " [('to', 'PRT'), (('reclaim', 'DET'), ('reclaim', 'VERB'))],\n",
       " [('``', '.'), (('mortgaged', 'DET'), ('mortgaged', 'VERB'))],\n",
       " [('under', 'ADP'), (('price-support', 'DET'), ('price-support', 'ADJ'))],\n",
       " [('In', 'ADP'), (('happier', 'DET'), ('happier', 'ADJ'))],\n",
       " [('*-1', 'X'), (('establishing', 'DET'), ('establishing', 'VERB'))],\n",
       " [('establishing', 'VERB'), (('diplomatic', 'DET'), ('diplomatic', 'ADJ'))],\n",
       " [('financially', 'ADV'), (('strapped', 'DET'), ('strapped', 'VERB'))],\n",
       " [('strapped', 'VERB'), (('Warsaw', 'DET'), ('Warsaw', 'NOUN'))],\n",
       " [('Joseph', 'NOUN'), (('Napolitan', 'DET'), ('Napolitan', 'NOUN'))],\n",
       " [('to', 'PRT'), (('attack', 'NOUN'), ('attack', 'VERB'))],\n",
       " [('attack', 'VERB'), (('first', 'ADJ'), ('first', 'ADV'))],\n",
       " [(',', '.'), (('last', 'ADJ'), ('last', 'ADV'))],\n",
       " [('maker', 'NOUN'), (('Claude', 'DET'), ('Claude', 'NOUN'))],\n",
       " [('of', 'ADP'), (('weird', 'DET'), ('weird', 'ADJ'))],\n",
       " [('``', '.'), (('Story', 'DET'), ('Story', 'NOUN'))],\n",
       " [('of', 'ADP'), (('Women', 'DET'), ('Women', 'NOUN'))],\n",
       " [(',', '.'), (('aims', 'DET'), ('aims', 'VERB'))],\n",
       " [(\"'s\", 'VERB'), (('that', 'ADP'), ('that', 'DET'))],\n",
       " [('Once', 'ADV'), (('there', 'DET'), ('there', 'ADV'))],\n",
       " [(',', '.'), (('what', 'PRON'), ('what', 'DET'))],\n",
       " [('of', 'ADP'), (('escape', 'DET'), ('escape', 'NOUN'))],\n",
       " [('*T*-1', 'X'), (('open', 'VERB'), ('open', 'ADJ'))],\n",
       " [('than', 'ADP'), (('drink', 'VERB'), ('drink', 'NOUN'))],\n",
       " [('or', 'CONJ'), (('insanity', 'DET'), ('insanity', 'NOUN'))],\n",
       " [(',', '.'), (('Duluth', 'DET'), ('Duluth', 'NOUN'))],\n",
       " [('and', 'CONJ'),\n",
       "  (('financial-services', 'ADJ'), ('financial-services', 'NOUN'))],\n",
       " [('financial-services', 'NOUN'), (('holding', 'NOUN'), ('holding', 'VERB'))],\n",
       " [('to', 'PRT'), (('step', 'NOUN'), ('step', 'VERB'))],\n",
       " [('Japanese', 'ADJ'), (('juggernaut', 'DET'), ('juggernaut', 'NOUN'))],\n",
       " [('a', 'DET'), (('disembodied', 'DET'), ('disembodied', 'ADJ'))],\n",
       " [('disembodied', 'ADJ'), (('male', 'ADJ'), ('male', 'NOUN'))],\n",
       " [('would', 'VERB'), (('like', 'ADP'), ('like', 'VERB'))],\n",
       " [('were', 'VERB'), (('more', 'ADV'), ('more', 'ADJ'))],\n",
       " [('S.', 'NOUN'), (('Hubbell', 'DET'), ('Hubbell', 'NOUN'))],\n",
       " [('of', 'ADP'), (('ceramic', 'DET'), ('ceramic', 'ADJ'))],\n",
       " [('years', 'NOUN'), (('promise', 'NOUN'), ('promise', 'VERB'))],\n",
       " [('new', 'ADJ'), (('technologies', 'DET'), ('technologies', 'NOUN'))],\n",
       " [('electrical', 'ADJ'), (('generation', 'DET'), ('generation', 'NOUN'))],\n",
       " [('to', 'PRT'), (('book', 'NOUN'), ('book', 'VERB'))],\n",
       " [('leaving', 'VERB'), (('stocks', 'NOUN'), ('stocks', 'ADV'))],\n",
       " [('stocks', 'ADV'), (('up', 'PRT'), ('up', 'ADP'))],\n",
       " [('10', 'NUM'), (('citizen-sparked', 'DET'), ('citizen-sparked', 'ADJ'))],\n",
       " [('state', 'NOUN'), (('ballots', 'DET'), ('ballots', 'NOUN'))],\n",
       " [('any', 'DET'), (('odd-year', 'DET'), ('odd-year', 'ADJ'))],\n",
       " [('the', 'DET'), (('crystal-lattice', 'NOUN'), ('crystal-lattice', 'ADJ'))],\n",
       " [('of', 'ADP'), (('current', 'ADJ'), ('current', 'NOUN'))],\n",
       " [('600,000', 'NUM'), (('amps', 'DET'), ('amps', 'NOUN'))],\n",
       " [('square', 'ADJ'), (('centimeter', 'DET'), ('centimeter', 'NOUN'))],\n",
       " [('nominated', 'VERB'), (('*T*-113', 'DET'), ('*T*-113', 'X'))],\n",
       " [('as', 'ADP'), (('surgeon', 'DET'), ('surgeon', 'NOUN'))],\n",
       " [('surgeon', 'NOUN'), (('general', 'ADJ'), ('general', 'NOUN'))],\n",
       " [(',', '.'), (('reportedly', 'DET'), ('reportedly', 'ADV'))],\n",
       " [('she', 'PRON'), (('opposes', 'DET'), ('opposes', 'VERB'))],\n",
       " [('in', 'ADP'), (('Wickliffe', 'DET'), ('Wickliffe', 'NOUN'))],\n",
       " [('makes', 'VERB'), (('computerized', 'DET'), ('computerized', 'ADJ'))],\n",
       " [('how', 'ADV'), (('much', 'ADV'), ('much', 'ADJ'))],\n",
       " [('*', 'X'), (('Winning', 'DET'), ('Winning', 'VERB'))],\n",
       " [(\"n't\", 'ADV'), (('that', 'ADP'), ('that', 'ADV'))],\n",
       " [('running', 'VERB'), (('up', 'ADV'), ('up', 'PRT'))],\n",
       " [('up', 'PRT'), (('record', 'VERB'), ('record', 'ADJ'))],\n",
       " [('from', 'ADP'), (('malnutrition', 'DET'), ('malnutrition', 'NOUN'))],\n",
       " [(',', '.'), (('chest', 'DET'), ('chest', 'NOUN'))],\n",
       " [(',', '.'), (('cardiovascular', 'DET'), ('cardiovascular', 'ADJ'))],\n",
       " [(',', '.'), (('infectious', 'DET'), ('infectious', 'ADJ'))],\n",
       " [('the', 'DET'), (('aftereffects', 'DET'), ('aftereffects', 'NOUN'))],\n",
       " [('of', 'ADP'), (('assaults', 'DET'), ('assaults', 'NOUN'))],\n",
       " [('Hills', 'NOUN'), (('lauded', 'DET'), ('lauded', 'VERB'))],\n",
       " [('book', 'NOUN'), (('pirates', 'DET'), ('pirates', 'NOUN'))],\n",
       " [('is', 'VERB'), (('heating', 'NOUN'), ('heating', 'VERB'))],\n",
       " [('several', 'ADJ'), (('legislators', 'DET'), ('legislators', 'NOUN'))],\n",
       " [('.', '.'), (('MEDICINE', 'DET'), ('MEDICINE', 'NOUN'))],\n",
       " [('MEDICINE', 'NOUN'), (('TRANSPLANT', 'DET'), ('TRANSPLANT', 'NOUN'))],\n",
       " [('travel', 'NOUN'), (('prompts', 'DET'), ('prompts', 'VERB'))],\n",
       " [('set', 'VERB'), (('up', 'ADV'), ('up', 'PRT'))],\n",
       " [('a', 'DET'), (('bilingual', 'DET'), ('bilingual', 'ADJ'))],\n",
       " [(\"'\", 'PRT'), (('report', 'VERB'), ('report', 'NOUN'))],\n",
       " [(\"'s\", 'PRT'), (('manufacturing', 'VERB'), ('manufacturing', 'NOUN'))],\n",
       " [('to', 'PRT'), (('contract', 'NOUN'), ('contract', 'VERB'))],\n",
       " [('David', 'NOUN'), (('Berson', 'DET'), ('Berson', 'NOUN'))],\n",
       " [('on', 'ADP'), (('single-family', 'NOUN'), ('single-family', 'ADJ'))],\n",
       " [('Jones', 'NOUN'), (('Equity', 'DET'), ('Equity', 'NOUN'))],\n",
       " [('gained', 'VERB'), (('0.99', 'DET'), ('0.99', 'NUM'))],\n",
       " [('to', 'PRT'), (('319.75', 'DET'), ('319.75', 'NUM'))],\n",
       " [('Exchange', 'NOUN'), (('Composite', 'DET'), ('Composite', 'NOUN'))],\n",
       " [('went', 'VERB'), (('up', 'ADV'), ('up', 'ADP'))],\n",
       " [('up', 'ADP'), (('0.60', 'DET'), ('0.60', 'NUM'))],\n",
       " [('to', 'PRT'), (('188.84', 'DET'), ('188.84', 'NUM'))],\n",
       " [('an', 'DET'), (('actor', 'DET'), ('actor', 'NOUN'))],\n",
       " [('the', 'DET'), (('inheritor', 'DET'), ('inheritor', 'NOUN'))],\n",
       " [('of', 'ADP'), (('Charlie', 'DET'), ('Charlie', 'NOUN'))],\n",
       " [('early', 'ADJ'), (('1980s', 'NUM'), ('1980s', 'NOUN'))],\n",
       " [('its', 'PRON'), (('glory', 'DET'), ('glory', 'NOUN'))],\n",
       " [('had', 'VERB'), (('faded', 'DET'), ('faded', 'VERB'))],\n",
       " [('the', 'DET'), (('yellow', 'DET'), ('yellow', 'ADJ'))],\n",
       " [('yellow', 'ADJ'), (('bricks', 'DET'), ('bricks', 'NOUN'))],\n",
       " [('broad', 'ADJ'), (('facade', 'DET'), ('facade', 'NOUN'))],\n",
       " [('no', 'DET'), (('culprit', 'DET'), ('culprit', 'NOUN'))],\n",
       " [('are', 'VERB'), (('reviewing', 'DET'), ('reviewing', 'VERB'))],\n",
       " [(',', '.'), (('depends', 'DET'), ('depends', 'VERB'))],\n",
       " [('recent', 'ADJ'), (('disarray', 'DET'), ('disarray', 'NOUN'))],\n",
       " [('face', 'VERB'), (('long', 'ADV'), ('long', 'ADJ'))],\n",
       " [('money', 'NOUN'), (('back', 'PRT'), ('back', 'ADV'))],\n",
       " [('a', 'DET'), (('warning', 'NOUN'), ('warning', 'VERB'))],\n",
       " [('it', 'PRON'), (('downgraded', 'DET'), ('downgraded', 'VERB'))],\n",
       " [('who', 'PRON'), (('*T*-242', 'DET'), ('*T*-242', 'X'))],\n",
       " [('*', 'X'), (('ordering', 'DET'), ('ordering', 'VERB'))],\n",
       " [('contract', 'NOUN'), (('reopened', 'DET'), ('reopened', 'VERB'))],\n",
       " [('the', 'DET'), (('subsequent', 'DET'), ('subsequent', 'ADJ'))],\n",
       " [('subsequent', 'ADJ'), (('flood', 'DET'), ('flood', 'NOUN'))],\n",
       " [('orders', 'NOUN'), (('that', 'ADP'), ('that', 'DET'))],\n",
       " [('that', 'DET'), (('*T*-211', 'DET'), ('*T*-211', 'X'))],\n",
       " [('quickly', 'ADV'), (('knocked', 'DET'), ('knocked', 'VERB'))],\n",
       " [('contract', 'NOUN'), (('down', 'ADP'), ('down', 'PRT'))],\n",
       " [('the', 'DET'), (('intermediate', 'DET'), ('intermediate', 'ADJ'))],\n",
       " [('needed', 'VERB'), (('*-128', 'DET'), ('*-128', 'X'))],\n",
       " [('*-128', 'X'), (('*-128', 'DET'), ('*-128', 'X'))],\n",
       " [('prices', 'NOUN'), (('synchronized', 'DET'), ('synchronized', 'VERB'))],\n",
       " [('a', 'DET'), (('definitive', 'DET'), ('definitive', 'ADJ'))],\n",
       " [('makes', 'VERB'), (('rechargeable', 'DET'), ('rechargeable', 'ADJ'))],\n",
       " [('nickel', 'NOUN'), (('cadmium', 'DET'), ('cadmium', 'NOUN'))],\n",
       " [('and', 'CONJ'), (('carbon', 'DET'), ('carbon', 'NOUN'))],\n",
       " [('carbon', 'NOUN'), (('zinc', 'DET'), ('zinc', 'NOUN'))],\n",
       " [('many', 'ADJ'), (('emerging', 'DET'), ('emerging', 'VERB'))],\n",
       " [('have', 'VERB'), (('outpaced', 'DET'), ('outpaced', 'VERB'))],\n",
       " [('outpaced', 'VERB'), (('more', 'ADJ'), ('more', 'ADV'))],\n",
       " [('more', 'ADV'), (('mature', 'VERB'), ('mature', 'ADJ'))],\n",
       " [('.', '.'), (('ORTEGA', 'DET'), ('ORTEGA', 'NOUN'))],\n",
       " [('ORTEGA', 'NOUN'), (('ENDED', 'DET'), ('ENDED', 'VERB'))],\n",
       " [('Genel', 'NOUN'), (('warns', 'DET'), ('warns', 'VERB'))],\n",
       " [('may', 'VERB'), (('discourage', 'DET'), ('discourage', 'VERB'))],\n",
       " [('investors', 'NOUN'), (('fault', 'NOUN'), ('fault', 'VERB'))],\n",
       " [('and', 'CONJ'), (('flies', 'DET'), ('flies', 'VERB'))],\n",
       " [(\"'s\", 'PRT'), (('jet', 'VERB'), ('jet', 'NOUN'))],\n",
       " [('jet', 'NOUN'), (('planes', 'DET'), ('planes', 'NOUN'))],\n",
       " [('as', 'ADP'), (('cocky', 'DET'), ('cocky', 'ADJ'))],\n",
       " [('too', 'ADV'), (('yielding', 'VERB'), ('yielding', 'ADJ'))],\n",
       " [('down', 'ADV'), (('0.4', 'DET'), ('0.4', 'NUM'))],\n",
       " [('initial', 'ADJ'), (('public', 'NOUN'), ('public', 'ADJ'))],\n",
       " [('The', 'DET'), (('Chinese', 'ADJ'), ('Chinese', 'NOUN'))],\n",
       " [('took', 'VERB'), (('aim', 'VERB'), ('aim', 'NOUN'))],\n",
       " [('a', 'DET'), (('low-tech', 'DET'), ('low-tech', 'ADJ'))],\n",
       " [('can', 'VERB'), (('catch', 'NOUN'), ('catch', 'VERB'))],\n",
       " [(\"'s\", 'PRT'), (('fancy', 'DET'), ('fancy', 'NOUN'))],\n",
       " [('a', 'DET'), (('strategic', 'DET'), ('strategic', 'ADJ'))],\n",
       " [('strategic', 'ADJ'), (('fit', 'ADJ'), ('fit', 'NOUN'))],\n",
       " [('keep', 'VERB'), (('up', 'ADV'), ('up', 'PRT'))],\n",
       " [('standard', 'ADJ'), (('benchmarks', 'DET'), ('benchmarks', 'NOUN'))],\n",
       " [('S&P', 'NOUN'), (('No', 'DET'), ('No', 'ADV'))],\n",
       " [(',', '.'), (('triple', 'DET'), ('triple', 'ADV'))],\n",
       " [('a', 'DET'), (('Washington-based', 'DET'), ('Washington-based', 'ADJ'))],\n",
       " [('in', 'ADP'), (('1965', 'DET'), ('1965', 'NUM'))],\n",
       " [('*-1', 'X'), (('rolling', 'DET'), ('rolling', 'VERB'))],\n",
       " [('-LRB-', '.'), (('A', 'DET'), ('A', 'NOUN'))],\n",
       " [('and', 'CONJ'), (('moons', 'DET'), ('moons', 'NOUN'))],\n",
       " [('the', 'DET'), (('renovated', 'DET'), ('renovated', 'VERB'))],\n",
       " [('Indiana', 'NOUN'), (('Roof', 'DET'), ('Roof', 'NOUN'))],\n",
       " [('Roof', 'NOUN'), (('ballroom', 'DET'), ('ballroom', 'NOUN'))],\n",
       " [('the', 'DET'), (('hottest', 'DET'), ('hottest', 'ADJ'))],\n",
       " [('Indiana', 'NOUN'), (('duckling', 'DET'), ('duckling', 'NOUN'))],\n",
       " [('duckling', 'NOUN'), (('mousseline', 'DET'), ('mousseline', 'NOUN'))],\n",
       " [(',', '.'), (('lobster', 'DET'), ('lobster', 'NOUN'))],\n",
       " [('lobster', 'NOUN'), (('consomme', 'DET'), ('consomme', 'NOUN'))],\n",
       " [(',', '.'), (('veal', 'DET'), ('veal', 'NOUN'))],\n",
       " [('veal', 'NOUN'), (('mignon', 'DET'), ('mignon', 'NOUN'))],\n",
       " [('and', 'CONJ'), (('chocolate', 'DET'), ('chocolate', 'ADJ'))],\n",
       " [('chocolate', 'ADJ'), (('terrine', 'DET'), ('terrine', 'NOUN'))],\n",
       " [('a', 'DET'), (('raspberry', 'DET'), ('raspberry', 'NOUN'))],\n",
       " [('raspberry', 'NOUN'), (('sauce', 'DET'), ('sauce', 'NOUN'))],\n",
       " [('thrift', 'NOUN'), (('till', 'DET'), ('till', 'ADP'))],\n",
       " [('the', 'DET'), (('issuer', 'DET'), ('issuer', 'NOUN'))],\n",
       " [('goes', 'VERB'), (('bust', 'DET'), ('bust', 'NOUN'))],\n",
       " [('or', 'CONJ'), (('restructures', 'DET'), ('restructures', 'VERB'))],\n",
       " [('do', 'VERB'), (('all', 'DET'), ('all', 'ADV'))],\n",
       " [('all', 'ADV'), (('right', 'NOUN'), ('right', 'ADV'))],\n",
       " [('The', 'DET'), (('school-board', 'DET'), ('school-board', 'NOUN'))],\n",
       " [('was', 'VERB'), (('crowded', 'DET'), ('crowded', 'VERB'))],\n",
       " [('who', 'PRON'), (('*T*-98', 'DET'), ('*T*-98', 'X'))],\n",
       " [('to', 'PRT'), (('testify', 'DET'), ('testify', 'VERB'))],\n",
       " [('.', '.'), (('b', 'DET'), ('b', 'X'))],\n",
       " [('.', '.'), (('Lucille', 'DET'), ('Lucille', 'NOUN'))],\n",
       " [('an', 'DET'), (('84-year-old', 'DET'), ('84-year-old', 'ADJ'))],\n",
       " [('Chicago', 'NOUN'), (('housewife', 'DET'), ('housewife', 'NOUN'))],\n",
       " [('become', 'VERB'), (('amazingly', 'DET'), ('amazingly', 'ADV'))],\n",
       " [('stock-market', 'NOUN'), (('jolts', 'DET'), ('jolts', 'NOUN'))],\n",
       " [('to', 'PRT'), (('study', 'NOUN'), ('study', 'VERB'))],\n",
       " [('from', 'ADP'), (('soured', 'DET'), ('soured', 'ADJ'))],\n",
       " [(\"'s\", 'PRT'), (('500-Stock', 'DET'), ('500-Stock', 'NOUN'))],\n",
       " [('added', 'VERB'), (('0.84', 'DET'), ('0.84', 'NUM'))],\n",
       " [('to', 'PRT'), (('341.20', 'DET'), ('341.20', 'NUM'))],\n",
       " [('was', 'VERB'), (('equivalent', 'NOUN'), ('equivalent', 'ADJ'))],\n",
       " [('industrial', 'ADJ'), (('average', 'ADJ'), ('average', 'NOUN'))],\n",
       " [('which', 'DET'), (('*T*-88', 'DET'), ('*T*-88', 'X'))],\n",
       " [('and', 'CONJ'), (('ushered', 'DET'), ('ushered', 'VERB'))],\n",
       " [('ushered', 'VERB'), (('in', 'ADP'), ('in', 'PRT'))],\n",
       " [('new', 'ADJ'), (('public', 'NOUN'), ('public', 'ADJ'))],\n",
       " [('school', 'NOUN'), (('betterment', 'DET'), ('betterment', 'NOUN'))],\n",
       " [('J.', 'NOUN'), (('Danzig', 'DET'), ('Danzig', 'NOUN'))],\n",
       " [('Hearst', 'NOUN'), (('Newspapers', 'DET'), ('Newspapers', 'NOUN'))],\n",
       " [('stood', 'VERB'), (('up', 'ADV'), ('up', 'PRT'))],\n",
       " [('and', 'CONJ'), (('that', 'DET'), ('that', 'ADP'))],\n",
       " [('putting', 'VERB'), (('more', 'ADV'), ('more', 'ADJ'))],\n",
       " [('than', 'ADP'), (('730', 'DET'), ('730', 'NUM'))],\n",
       " [('employees', 'NOUN'), (('out', 'PRT'), ('out', 'ADP'))],\n",
       " [('them', 'PRON'), (('dealing', 'DET'), ('dealing', 'VERB'))],\n",
       " [('``', '.'), (('Nasty', 'DET'), ('Nasty', 'ADJ'))],\n",
       " [('Nasty', 'ADJ'), (('innuendoes', 'DET'), ('innuendoes', 'NOUN'))],\n",
       " [('John', 'NOUN'), (('Siegal', 'DET'), ('Siegal', 'NOUN'))],\n",
       " [('to', 'PRT'), (('prosecute', 'DET'), ('prosecute', 'VERB'))],\n",
       " [('corruption', 'NOUN'), (('that', 'ADP'), ('that', 'DET'))],\n",
       " [(\"''\", '.'), (('Michaels', 'DET'), ('Michaels', 'NOUN'))],\n",
       " [('which', 'DET'), (('*T*-142', 'DET'), ('*T*-142', 'X'))],\n",
       " [('rose', 'VERB'), (('14.6', 'DET'), ('14.6', 'NUM'))],\n",
       " [('$', '.'), (('32.8', 'DET'), ('32.8', 'NUM'))],\n",
       " [('$', '.'), (('28.6', 'DET'), ('28.6', 'NUM'))],\n",
       " [('.', '.'), (('Quant', 'DET'), ('Quant', 'NOUN'))],\n",
       " [('--', '.'), (('Generally', 'DET'), ('Generally', 'ADV'))],\n",
       " [('employs', 'VERB'), (('quantitive', 'DET'), ('quantitive', 'ADJ'))],\n",
       " [('$', '.'), (('130.7', 'DET'), ('130.7', 'NUM'))],\n",
       " [('for', 'ADP'), (('AC-130U', 'DET'), ('AC-130U', 'NOUN'))],\n",
       " [('is', 'VERB'), (('worrying', 'DET'), ('worrying', 'VERB'))],\n",
       " [('and', 'CONJ'), (('money-center', 'DET'), ('money-center', 'ADJ'))],\n",
       " [(',', '.'), (('as', 'ADP'), ('as', 'ADV'))],\n",
       " [('*', 'X'), (('there', 'DET'), ('there', 'ADV'))],\n",
       " [('The', 'DET'), (('purchasing', 'NOUN'), ('purchasing', 'VERB'))],\n",
       " [('some', 'DET'), (('flexibility', 'DET'), ('flexibility', 'NOUN'))],\n",
       " [('0', 'X'), (('445', 'DET'), ('445', 'NUM'))],\n",
       " [('in', 'ADP'), (('Shelby', 'DET'), ('Shelby', 'NOUN'))],\n",
       " [('United', 'NOUN'), (('Steelworkers', 'DET'), ('Steelworkers', 'NOUN'))],\n",
       " [('Steelworkers', 'NOUN'), (('Local', 'DET'), ('Local', 'NOUN'))],\n",
       " [('Local', 'NOUN'), (('3057', 'DET'), ('3057', 'NUM'))],\n",
       " [('.', '.'), (('Bribe', 'DET'), ('Bribe', 'NOUN'))],\n",
       " [('by', 'ADP'), (('bribe', 'DET'), ('bribe', 'NOUN'))],\n",
       " [(',', '.'), (('Matthew', 'DET'), ('Matthew', 'NOUN'))],\n",
       " [('C.', 'NOUN'), (('Harrison', 'DET'), ('Harrison', 'NOUN'))],\n",
       " [('the', 'DET'), (('path', 'DET'), ('path', 'NOUN'))],\n",
       " [('Wedtech', 'NOUN'), (('traveled', 'DET'), ('traveled', 'VERB'))],\n",
       " [('its', 'PRON'), (('inception', 'DET'), ('inception', 'NOUN'))],\n",
       " [('small', 'ADJ'), (('manufacturing', 'NOUN'), ('manufacturing', 'VERB'))],\n",
       " [('of', 'ADP'), (('full-fledged', 'DET'), ('full-fledged', 'ADJ'))],\n",
       " [('producing', 'VERB'), (('vital', 'DET'), ('vital', 'ADJ'))]]"
      ]
     },
     "execution_count": 24,
     "metadata": {},
     "output_type": "execute_result"
    }
   ],
   "source": [
    "#lets find the incorrect tagged cases after vanilla viterbi algoritham\n",
    "incorrect_tagged_cases = [[val_run_base[i-1],j] for i, j in enumerate(zip(vanilla_tagged_seq, val_run_base)) if j[0]!=j[1]]\n",
    "incorrect_tagged_cases"
   ]
  },
  {
   "cell_type": "markdown",
   "metadata": {},
   "source": [
    "- We can observe that many words are tagged incorretcly as DET but actually they are not DET."
   ]
  },
  {
   "cell_type": "code",
   "execution_count": 25,
   "metadata": {},
   "outputs": [
    {
     "data": {
      "text/plain": [
       "['Android is a mobile operating system developed by Google.',\n",
       " 'Android has been the best-selling OS worldwide on smartphones since 2011 and on tablets since 2013.',\n",
       " \"Google and Twitter made a deal in 2015 that gave Google access to Twitter's firehose.\",\n",
       " 'Twitter is an online news and social networking service on which users post and interact with messages known as tweets.',\n",
       " 'Before entering politics, Donald Trump was a domineering businessman and a television personality.',\n",
       " 'The 2018 FIFA World Cup is the 21st FIFA World Cup, an international football tournament contested once every four years.',\n",
       " 'This is the first World Cup to be held in Eastern Europe and the 11th time that it has been held in Europe.',\n",
       " 'Show me the cheapest round trips from Dallas to Atlanta',\n",
       " 'I would like to see flights from Denver to Philadelphia.',\n",
       " 'Show me the price of the flights leaving Atlanta at about 3 in the afternoon and arriving in San Francisco.',\n",
       " 'NASA invited social media users to experience the launch of ICESAT-2 Satellite.']"
      ]
     },
     "execution_count": 25,
     "metadata": {},
     "output_type": "execute_result"
    }
   ],
   "source": [
    "#Reading the given test sentence dataset\n",
    "test = pd.read_csv(\"Test_sentences.txt\", sep = \"\\t\", names=[\"message\"])\n",
    "#Converting the read dataset in to a list of tuples.\n",
    "test_set = []\n",
    "for index,row in test.iterrows():\n",
    "    test_set.append((row['message']))\n",
    "test_set"
   ]
  },
  {
   "cell_type": "markdown",
   "metadata": {},
   "source": [
    "### Solve the problem of unknown words"
   ]
  },
  {
   "cell_type": "code",
   "execution_count": 26,
   "metadata": {},
   "outputs": [
    {
     "name": "stdout",
     "output_type": "stream",
     "text": [
      "[('Android', 'DET'), ('is', 'VERB'), ('a', 'DET'), ('mobile', 'ADJ'), ('operating', 'NOUN'), ('system', 'NOUN'), ('developed', 'VERB'), ('by', 'ADP'), ('Google', 'DET'), ('.', '.'), ('Android', 'DET'), ('has', 'VERB'), ('been', 'VERB'), ('the', 'DET'), ('best-selling', 'ADJ'), ('OS', 'DET'), ('worldwide', 'DET'), ('on', 'ADP'), ('smartphones', 'DET'), ('since', 'ADP'), ('2011', 'DET'), ('and', 'CONJ'), ('on', 'ADP'), ('tablets', 'NOUN'), ('since', 'ADP'), ('2013', 'DET'), ('.', '.'), ('Google', 'DET'), ('and', 'CONJ'), ('Twitter', 'DET'), ('made', 'VERB'), ('a', 'DET'), ('deal', 'NOUN'), ('in', 'ADP'), ('2015', 'DET'), ('that', 'ADP'), ('gave', 'VERB'), ('Google', 'DET'), ('access', 'NOUN'), ('to', 'PRT'), ('Twitter', 'DET'), (\"'s\", 'VERB'), ('firehose', 'DET'), ('.', '.'), ('Twitter', 'DET'), ('is', 'VERB'), ('an', 'DET'), ('online', 'DET'), ('news', 'NOUN'), ('and', 'CONJ'), ('social', 'ADJ'), ('networking', 'DET'), ('service', 'NOUN'), ('on', 'ADP'), ('which', 'DET'), ('users', 'NOUN'), ('post', 'NOUN'), ('and', 'CONJ'), ('interact', 'DET'), ('with', 'ADP'), ('messages', 'DET'), ('known', 'VERB'), ('as', 'ADP'), ('tweets', 'DET'), ('.', '.'), ('Before', 'ADP'), ('entering', 'VERB'), ('politics', 'NOUN'), (',', '.'), ('Donald', 'NOUN'), ('Trump', 'NOUN'), ('was', 'VERB'), ('a', 'DET'), ('domineering', 'DET'), ('businessman', 'NOUN'), ('and', 'CONJ'), ('a', 'DET'), ('television', 'NOUN'), ('personality', 'DET'), ('.', '.'), ('The', 'DET'), ('2018', 'DET'), ('FIFA', 'DET'), ('World', 'NOUN'), ('Cup', 'DET'), ('is', 'VERB'), ('the', 'DET'), ('21st', 'DET'), ('FIFA', 'DET'), ('World', 'NOUN'), ('Cup', 'DET'), (',', '.'), ('an', 'DET'), ('international', 'ADJ'), ('football', 'NOUN'), ('tournament', 'DET'), ('contested', 'DET'), ('once', 'ADV'), ('every', 'DET'), ('four', 'NUM'), ('years', 'NOUN'), ('.', '.'), ('This', 'DET'), ('is', 'VERB'), ('the', 'DET'), ('first', 'ADJ'), ('World', 'NOUN'), ('Cup', 'DET'), ('to', 'PRT'), ('be', 'VERB'), ('held', 'VERB'), ('in', 'ADP'), ('Eastern', 'NOUN'), ('Europe', 'NOUN'), ('and', 'CONJ'), ('the', 'DET'), ('11th', 'ADJ'), ('time', 'NOUN'), ('that', 'ADP'), ('it', 'PRON'), ('has', 'VERB'), ('been', 'VERB'), ('held', 'VERB'), ('in', 'ADP'), ('Europe', 'NOUN'), ('.', '.'), ('Show', 'NOUN'), ('me', 'PRON'), ('the', 'DET'), ('cheapest', 'ADJ'), ('round', 'NOUN'), ('trips', 'DET'), ('from', 'ADP'), ('Dallas', 'NOUN'), ('to', 'PRT'), ('Atlanta', 'NOUN'), ('I', 'PRON'), ('would', 'VERB'), ('like', 'ADP'), ('to', 'PRT'), ('see', 'VERB'), ('flights', 'NOUN'), ('from', 'ADP'), ('Denver', 'NOUN'), ('to', 'PRT'), ('Philadelphia', 'NOUN'), ('.', '.'), ('Show', 'NOUN'), ('me', 'PRON'), ('the', 'DET'), ('price', 'NOUN'), ('of', 'ADP'), ('the', 'DET'), ('flights', 'NOUN'), ('leaving', 'VERB'), ('Atlanta', 'NOUN'), ('at', 'ADP'), ('about', 'ADP'), ('3', 'NUM'), ('in', 'ADP'), ('the', 'DET'), ('afternoon', 'NOUN'), ('and', 'CONJ'), ('arriving', 'DET'), ('in', 'ADP'), ('San', 'NOUN'), ('Francisco', 'NOUN'), ('.', '.'), ('NASA', 'DET'), ('invited', 'DET'), ('social', 'ADJ'), ('media', 'NOUN'), ('users', 'NOUN'), ('to', 'PRT'), ('experience', 'NOUN'), ('the', 'DET'), ('launch', 'NOUN'), ('of', 'ADP'), ('ICESAT-2', 'DET'), ('Satellite', 'DET'), ('.', '.')]\n"
     ]
    }
   ],
   "source": [
    "#lets do predictions on test file that was provided using vanilla viterbi algorithm\n",
    "test_list =[]\n",
    "for l in test_set:\n",
    "    test_list=test_list+list(Viterbi(word_tokenize(l)))\n",
    "print(test_list)"
   ]
  },
  {
   "cell_type": "markdown",
   "metadata": {},
   "source": [
    "#### Observations:\n",
    "- After looking into above tags the words which were not present in training set were tagged incorrectly for validation set.\n",
    "- For example Android, Google, Twitter and there are many other words which are incorrectly tagged as DET.\n",
    "- There are words like 2011, 2015, 2018 all are incorectly tagged as DET.\n",
    "- There are words like arriving, invited are tagged incorrectly.\n",
    "- As we can see there are many other issues as well with vanilla viterbi algoritham. "
   ]
  },
  {
   "cell_type": "code",
   "execution_count": 27,
   "metadata": {},
   "outputs": [
    {
     "name": "stdout",
     "output_type": "stream",
     "text": [
      "['Android', 'is', 'a', 'mobile', 'operating', 'system', 'developed', 'by', 'Google', '.', 'Android', 'has', 'been', 'the', 'best-selling', 'OS', 'worldwide', 'on', 'smartphones', 'since', '2011', 'and', 'on', 'tablets', 'since', '2013', '.', 'Google', 'and', 'Twitter', 'made', 'a', 'deal', 'in', '2015', 'that', 'gave', 'Google', 'access', 'to', 'Twitter', \"'s\", 'firehose', '.', 'Twitter', 'is', 'an', 'online', 'news', 'and', 'social', 'networking', 'service', 'on', 'which', 'users', 'post', 'and', 'interact', 'with', 'messages', 'known', 'as', 'tweets', '.', 'Before', 'entering', 'politics', ',', 'Donald', 'Trump', 'was', 'a', 'domineering', 'businessman', 'and', 'a', 'television', 'personality', '.', 'The', '2018', 'FIFA', 'World', 'Cup', 'is', 'the', '21st', 'FIFA', 'World', 'Cup', ',', 'an', 'international', 'football', 'tournament', 'contested', 'once', 'every', 'four', 'years', '.', 'This', 'is', 'the', 'first', 'World', 'Cup', 'to', 'be', 'held', 'in', 'Eastern', 'Europe', 'and', 'the', '11th', 'time', 'that', 'it', 'has', 'been', 'held', 'in', 'Europe', '.', 'Show', 'me', 'the', 'cheapest', 'round', 'trips', 'from', 'Dallas', 'to', 'Atlanta', 'I', 'would', 'like', 'to', 'see', 'flights', 'from', 'Denver', 'to', 'Philadelphia', '.', 'Show', 'me', 'the', 'price', 'of', 'the', 'flights', 'leaving', 'Atlanta', 'at', 'about', '3', 'in', 'the', 'afternoon', 'and', 'arriving', 'in', 'San', 'Francisco', '.', 'NASA', 'invited', 'social', 'media', 'users', 'to', 'experience', 'the', 'launch', 'of', 'ICESAT-2', 'Satellite', '.']\n"
     ]
    }
   ],
   "source": [
    "#lets find all the words in the test file\n",
    "test_words=[tokens for l in test_set for tokens in word_tokenize(l)]\n",
    "print(test_words)"
   ]
  },
  {
   "cell_type": "code",
   "execution_count": 28,
   "metadata": {},
   "outputs": [
    {
     "name": "stdout",
     "output_type": "stream",
     "text": [
      "['interact', 'tweets', 'smartphones', 'trips', 'Android', '2011', 'OS', 'domineering', 'FIFA', '21st', 'networking', 'Cup', '2013', 'NASA', 'firehose', 'tournament', 'contested', '2015', 'personality', 'arriving', 'invited', 'ICESAT-2', 'messages', 'worldwide', '2018', 'Google', 'online', 'Satellite', 'Twitter']\n"
     ]
    }
   ],
   "source": [
    "#words which are present in test dataset but not in the training dataset\n",
    "words_not_in_train = list(set(test_words) - set(tokens))\n",
    "print(words_not_in_train)"
   ]
  },
  {
   "cell_type": "markdown",
   "metadata": {},
   "source": [
    "- We can clearly notice that Android, Twitter, Google are not part of train set that is why they were tagged incorrectly for words present in test dataset.\n",
    "- Numbers like 2018, 2015 are also tagged incorrectly due to same issue.\n",
    "- words like invited, contested, arriving tagged incorrectly.\n",
    "- Lets do some EDA and find some insights to proceed further with tagging unknown words."
   ]
  },
  {
   "cell_type": "code",
   "execution_count": 29,
   "metadata": {},
   "outputs": [
    {
     "data": {
      "text/plain": [
       "[('Android', 'DET'),\n",
       " ('Google', 'DET'),\n",
       " ('Android', 'DET'),\n",
       " ('OS', 'DET'),\n",
       " ('worldwide', 'DET'),\n",
       " ('smartphones', 'DET'),\n",
       " ('2011', 'DET'),\n",
       " ('2013', 'DET'),\n",
       " ('Google', 'DET'),\n",
       " ('Twitter', 'DET'),\n",
       " ('2015', 'DET'),\n",
       " ('Google', 'DET'),\n",
       " ('Twitter', 'DET'),\n",
       " ('firehose', 'DET'),\n",
       " ('Twitter', 'DET'),\n",
       " ('online', 'DET'),\n",
       " ('networking', 'DET'),\n",
       " ('interact', 'DET'),\n",
       " ('messages', 'DET'),\n",
       " ('tweets', 'DET'),\n",
       " ('domineering', 'DET'),\n",
       " ('personality', 'DET'),\n",
       " ('2018', 'DET'),\n",
       " ('FIFA', 'DET'),\n",
       " ('Cup', 'DET'),\n",
       " ('21st', 'DET'),\n",
       " ('FIFA', 'DET'),\n",
       " ('Cup', 'DET'),\n",
       " ('tournament', 'DET'),\n",
       " ('contested', 'DET'),\n",
       " ('Cup', 'DET'),\n",
       " ('trips', 'DET'),\n",
       " ('arriving', 'DET'),\n",
       " ('NASA', 'DET'),\n",
       " ('invited', 'DET'),\n",
       " ('ICESAT-2', 'DET'),\n",
       " ('Satellite', 'DET')]"
      ]
     },
     "execution_count": 29,
     "metadata": {},
     "output_type": "execute_result"
    }
   ],
   "source": [
    "#lets look into tags predicted for unknown words\n",
    "[tup for tup in test_list for word in words_not_in_train if tup[0]==word ]"
   ]
  },
  {
   "cell_type": "code",
   "execution_count": 30,
   "metadata": {},
   "outputs": [
    {
     "name": "stdout",
     "output_type": "stream",
     "text": [
      "Counter({'NOUN': 27488, 'VERB': 12890, '.': 11158, 'ADP': 9391, 'DET': 8278, 'X': 6268, 'ADJ': 6097, 'NUM': 3388, 'PRT': 3048, 'ADV': 3008, 'PRON': 2612, 'CONJ': 2153})\n"
     ]
    }
   ],
   "source": [
    "#lets find the count of all tags in the training set\n",
    "from collections import Counter\n",
    "tag_counts = Counter(pair[1] for pair in train_tagged_words)\n",
    "print(tag_counts)"
   ]
  },
  {
   "cell_type": "code",
   "execution_count": 31,
   "metadata": {},
   "outputs": [
    {
     "data": {
      "text/plain": [
       "[('NOUN', 27488), ('VERB', 12890), ('.', 11158), ('ADP', 9391), ('DET', 8278)]"
      ]
     },
     "execution_count": 31,
     "metadata": {},
     "output_type": "execute_result"
    }
   ],
   "source": [
    "#lets find the most common tags present in the training dataset\n",
    "tag_counts.most_common(5)"
   ]
  },
  {
   "cell_type": "markdown",
   "metadata": {},
   "source": [
    "#### Exploratory Analysis on training dataset to find some insights"
   ]
  },
  {
   "cell_type": "code",
   "execution_count": 32,
   "metadata": {},
   "outputs": [
    {
     "name": "stdout",
     "output_type": "stream",
     "text": [
      "0.20512024825446082\n"
     ]
    },
    {
     "data": {
      "text/plain": [
       "[('diluted', 'VERB'),\n",
       " ('adjusted', 'VERB'),\n",
       " ('declared', 'VERB'),\n",
       " ('fared', 'VERB'),\n",
       " ('shipped', 'VERB'),\n",
       " ('posted', 'VERB'),\n",
       " ('plummeted', 'VERB'),\n",
       " ('surrendered', 'VERB'),\n",
       " ('increased', 'VERB'),\n",
       " ('led', 'VERB'),\n",
       " ('opposed', 'VERB'),\n",
       " ('construed', 'VERB'),\n",
       " ('promised', 'VERB'),\n",
       " ('rejected', 'VERB'),\n",
       " ('denied', 'VERB'),\n",
       " ('priced', 'VERB'),\n",
       " ('estimated', 'VERB'),\n",
       " ('auctioned', 'VERB'),\n",
       " ('voted', 'VERB'),\n",
       " ('listed', 'VERB')]"
      ]
     },
     "execution_count": 32,
     "metadata": {},
     "output_type": "execute_result"
    }
   ],
   "source": [
    "#how many words with the tag 'VERB' (verb, past tense) end with 'ed'\n",
    "past_tense_verbs = [pair for pair in train_tagged_words if pair[1]=='VERB']\n",
    "ed_verbs = [pair for pair in past_tense_verbs if pair[0].endswith('ed')]\n",
    "print(len(ed_verbs) / len(past_tense_verbs))\n",
    "ed_verbs[:20]"
   ]
  },
  {
   "cell_type": "markdown",
   "metadata": {},
   "source": [
    "- As we can see close to 20% words are verb which end with \"ed\". \n",
    "- Rule based tagger can be built to tage these words."
   ]
  },
  {
   "cell_type": "code",
   "execution_count": 33,
   "metadata": {},
   "outputs": [
    {
     "name": "stdout",
     "output_type": "stream",
     "text": [
      "0.1091543832428239\n"
     ]
    },
    {
     "data": {
      "text/plain": [
       "[('granting', 'VERB'),\n",
       " ('earning', 'VERB'),\n",
       " ('beginning', 'VERB'),\n",
       " ('reaching', 'VERB'),\n",
       " ('saying', 'VERB'),\n",
       " ('hugging', 'VERB'),\n",
       " ('using', 'VERB'),\n",
       " ('exerting', 'VERB'),\n",
       " ('showing', 'VERB'),\n",
       " ('rising', 'VERB'),\n",
       " ('being', 'VERB'),\n",
       " ('funding', 'VERB'),\n",
       " ('according', 'VERB'),\n",
       " ('plunging', 'VERB'),\n",
       " ('varying', 'VERB'),\n",
       " ('altering', 'VERB'),\n",
       " ('easing', 'VERB'),\n",
       " ('yielding', 'VERB'),\n",
       " ('paying', 'VERB'),\n",
       " ('slowing', 'VERB')]"
      ]
     },
     "execution_count": 33,
     "metadata": {},
     "output_type": "execute_result"
    }
   ],
   "source": [
    "#how many words with the tag 'VERB' end with 'ing'\n",
    "participle_verbs = [pair for pair in train_tagged_words if pair[1]=='VERB']\n",
    "ing_verbs = [pair for pair in participle_verbs if pair[0].endswith('ing')]\n",
    "print(len(ing_verbs) / len(participle_verbs))\n",
    "ing_verbs[:20]"
   ]
  },
  {
   "cell_type": "markdown",
   "metadata": {},
   "source": [
    "- As we can see close to 10% word are verb which ends with \"ing\". \n",
    "- Rule based tagger can be built to tage these words."
   ]
  },
  {
   "cell_type": "markdown",
   "metadata": {},
   "source": [
    "Let's now try observing some tag patterns using the fact the some tags are more likely to appear after certain other tags. For e.g. most nouns NN are usually followed by determiners DT (\"The/DT constitution/NN\"), adjectives JJ usually precede a noun NN (\" A large/JJ building/NN\"), etc. "
   ]
  },
  {
   "cell_type": "code",
   "execution_count": 34,
   "metadata": {},
   "outputs": [
    {
     "name": "stdout",
     "output_type": "stream",
     "text": [
      "6097\n",
      "4269\n",
      "0.7001804165983271\n"
     ]
    }
   ],
   "source": [
    "#fraction of adjectives are followed by a noun\n",
    "\n",
    "# create a list of all tags (without the words)\n",
    "tags = [pair[1] for pair in train_tagged_words]\n",
    "\n",
    "# create a list of adjective tags\n",
    "aj_tags = [t for t in tags if t == 'ADJ']\n",
    "\n",
    "# create a list of (adjective, Noun) tags\n",
    "aj_nn_tags = [(t, tags[index+1]) for index, t in enumerate(tags) \n",
    "              if t=='ADJ' and tags[index+1]=='NOUN']\n",
    "\n",
    "print(len(aj_tags))\n",
    "print(len(aj_nn_tags))\n",
    "print(len(aj_nn_tags) / len(aj_tags))"
   ]
  },
  {
   "cell_type": "markdown",
   "metadata": {},
   "source": [
    "- 70% adjectives are followed by a noun"
   ]
  },
  {
   "cell_type": "code",
   "execution_count": 35,
   "metadata": {},
   "outputs": [
    {
     "name": "stdout",
     "output_type": "stream",
     "text": [
      "8278\n",
      "5282\n",
      "0.6380768301522107\n"
     ]
    }
   ],
   "source": [
    "#fraction of determiners DET are followed by a noun\n",
    "det_tags = [t for t in tags if t == 'DET']\n",
    "det_nn_tags = [(t, tags[index+1]) for index, t in enumerate(tags) \n",
    "              if t=='DET' and tags[index+1]=='NOUN']\n",
    "\n",
    "print(len(det_tags))\n",
    "print(len(det_nn_tags))\n",
    "print(len(det_nn_tags) / len(det_tags))"
   ]
  },
  {
   "cell_type": "markdown",
   "metadata": {},
   "source": [
    "- 63% determiners DET are followed by a NOUN"
   ]
  },
  {
   "cell_type": "code",
   "execution_count": 36,
   "metadata": {},
   "outputs": [
    {
     "name": "stdout",
     "output_type": "stream",
     "text": [
      "3008\n",
      "1040\n",
      "0.34574468085106386\n"
     ]
    }
   ],
   "source": [
    "#fraction of adverb are followed by a verb\n",
    "adv_tags = [t for t in tags if t == 'ADV']\n",
    "adv_vb_tags = [(t, tags[index+1]) for index, t in enumerate(tags) \n",
    "              if t=='ADV' and tags[index+1]=='VERB']\n",
    "\n",
    "print(len(adv_tags))\n",
    "print(len(adv_vb_tags))\n",
    "print(len(adv_vb_tags) / len(adv_tags))"
   ]
  },
  {
   "cell_type": "markdown",
   "metadata": {},
   "source": [
    "- 34% adverbs are followed by a verb"
   ]
  },
  {
   "cell_type": "markdown",
   "metadata": {},
   "source": [
    "- Thus, we see that the probability of certain tags appearing after certain other tags is quite high, and this fact can be used to build quite efficient POS tagging algorithms. \n",
    "- We can build rule based tagger as well to tag certain words ending with certain patterns."
   ]
  },
  {
   "cell_type": "markdown",
   "metadata": {},
   "source": [
    "### Solve the problem of unknown words : Viterbi Modification Technique - 1"
   ]
  },
  {
   "cell_type": "markdown",
   "metadata": {},
   "source": [
    "- We will work on below two techniques & combine those two techniques using BACKOFF tehcnique.\n",
    "- Combination of two techniques will be used in vanilla viterbi algoritham.\n",
    "#### Techniques :\n",
    "\n",
    "- Lexicon ( Unigram Tagger/Bigram Tagger/Trigram Tagger)\n",
    "- Rule Based Tagger (RegexpTagger())"
   ]
  },
  {
   "cell_type": "markdown",
   "metadata": {},
   "source": [
    "#### Lexicon (Unigram) Tagger\n",
    "\n",
    "Let's now try training a lexicon tagger which assigns the most commonly assigned tag to a word. \n",
    "\n",
    "In NLTK, the `UnigramTagger()` `BigramTagger()` `TrigramTagger()`  can be used to train such a model."
   ]
  },
  {
   "cell_type": "markdown",
   "metadata": {},
   "source": [
    "#### Rule-Based (Regular Expression) Tagger\n",
    "\n",
    "Now let's build a rule-based, or regular expression based tagger. In NLTK, the `RegexpTagger()` can be provided with handwritten regular expression patterns, as shown below.\n",
    "\n",
    "We specify regexes for gerunds and past tense verbs, 3rd singular present verb (creates, moves, makes etc.), modal verbs MD (should, would, could), possesive nouns (partner's, bank's etc.), plural nouns (banks, institutions), cardinal numbers and finally, if none of the above rules are applicable to a word, we tag the most frequent tag Noun.  "
   ]
  },
  {
   "cell_type": "code",
   "execution_count": 37,
   "metadata": {},
   "outputs": [],
   "source": [
    "# specify patterns for tagging after looking into tagging results obtained and EDA performed on tagged dataset.\n",
    "patterns = [\n",
    "    (r'.*ing$', 'VERB'),              # gerund\n",
    "    (r'.*ed$', 'VERB'),               # past tense\n",
    "    (r'.*es$', 'VERB'),               # 3rd singular present\n",
    "    (r'.*ould$', 'VERB'),             # modals\n",
    "    (r'.*\\'s$', 'NOUN'),              # possessive nouns\n",
    "    (r'.*s$', 'NOUN'),                # plural nouns\n",
    "    (r'^-?[0-9]+(.[0-9]+)?$', 'NUM'), # cardinal numbers \n",
    "    (r'\\*T?\\*?-[0-9]+$', 'X'),        # X\n",
    "    (r'.*', 'NOUN'),                  # nouns\n",
    "    (r'.*ness$', 'NOUN'),             # nouns formed from adjectives\n",
    "    (r'(.*able|.*ible|.*al|.*ic|.*ful|.*iv|.*less|.*ous)$', 'ADJ'),      # adjectives     \n",
    "    (r'(The|the|A|a|An|an)$', 'DET'), # determinants    \n",
    "    (r'.*ly$', 'ADV')                 # adverbs\n",
    "]"
   ]
  },
  {
   "cell_type": "markdown",
   "metadata": {},
   "source": [
    "#### Evaluating tagging accuracy with Rule Based Tagger only."
   ]
  },
  {
   "cell_type": "code",
   "execution_count": 38,
   "metadata": {},
   "outputs": [
    {
     "data": {
      "text/plain": [
       "0.3702266693894221"
      ]
     },
     "execution_count": 38,
     "metadata": {},
     "output_type": "execute_result"
    }
   ],
   "source": [
    "regexp_tagger = nltk.RegexpTagger(patterns)\n",
    "regexp_tagger.evaluate(validation)"
   ]
  },
  {
   "cell_type": "markdown",
   "metadata": {},
   "source": [
    "- Rule based tagger alone is not able to tag all words correctly and after evalution we got hardly 37% accuracy.\n",
    "- Lets combine rule based tagger with Lexicon based tagger which will deffinitely improve tagging accuracy."
   ]
  },
  {
   "cell_type": "markdown",
   "metadata": {},
   "source": [
    "### Combining Taggers\n",
    "\n",
    "Let's now try combining the taggers created above. We saw that the rule-based tagger by itself is quite ineffective since we've only written a handful of rules. However, if we could combine the lexicon and the rule-based tagger, we can potentially create a tagger much better than any of the individual ones.\n",
    "\n",
    "NLTK provides a convenient way to combine taggers using the 'backoff' argument. In the following code, we create a regex tagger which is used as a backoff tagger to the lexicon tagger, i.e. when the tagger is not able to tag using the lexicon (in case of a new word not in the vocabulary), it uses the rule-based tagger. \n"
   ]
  },
  {
   "cell_type": "markdown",
   "metadata": {},
   "source": [
    "###### Above Pattern has been created to correctly tag the words which were tagged incorrectly using vanilla viterbi algorthm."
   ]
  },
  {
   "cell_type": "markdown",
   "metadata": {},
   "source": [
    "### Evaluating tagging accuracy with combined tagger created with Lexicon & Rule-Based Tagger"
   ]
  },
  {
   "cell_type": "code",
   "execution_count": 39,
   "metadata": {},
   "outputs": [
    {
     "name": "stdout",
     "output_type": "stream",
     "text": [
      "Combined Accuracy of Lexicon and Rule based Tagger: 0.9528282622013478\n"
     ]
    }
   ],
   "source": [
    "# rule based tagger\n",
    "rule_based_tagger = nltk.RegexpTagger(patterns)\n",
    "\n",
    "# lexicon taggers backed up by the rule-based tagger\n",
    "uni = nltk.UnigramTagger(train, backoff=rule_based_tagger)\n",
    "bi = nltk.BigramTagger(train, backoff=uni)\n",
    "comb_tagger = nltk.TrigramTagger(train, backoff=bi)\n",
    "\n",
    "print(\"Combined Accuracy of Lexicon and Rule based Tagger:\",comb_tagger.evaluate(validation))"
   ]
  },
  {
   "cell_type": "markdown",
   "metadata": {},
   "source": [
    "### Compare the tagging accuracies of the modified viterbi algoritham with the vanilla Viterbi algorithm"
   ]
  },
  {
   "cell_type": "markdown",
   "metadata": {},
   "source": [
    "#### Modified Viterbi Algoritham creation: Technique - 1 "
   ]
  },
  {
   "cell_type": "code",
   "execution_count": 40,
   "metadata": {},
   "outputs": [],
   "source": [
    "# Modified Viterbi Heuristic\n",
    "def modified_Viterbi(words, train_bag = train_tagged_words):\n",
    "    state = []\n",
    "    T = list(set([pair[1] for pair in train_bag]))\n",
    "    \n",
    "    for key, word in enumerate(words):\n",
    "        #initialise list of probability column for a given observation\n",
    "        p = [] \n",
    "        for tag in T:\n",
    "            if key == 0:\n",
    "                transition_p = tags_df.loc['.', tag]\n",
    "            else:\n",
    "                transition_p = tags_df.loc[state[-1], tag]\n",
    "                \n",
    "            # compute emission and state probabilities\n",
    "            emission_p = word_given_tag(words[key], tag)[0]/word_given_tag(words[key], tag)[1]\n",
    "            state_probability = emission_p * transition_p    \n",
    "            p.append(state_probability)\n",
    "            \n",
    "        pmax = max(p)\n",
    "        #Check if state probability is zero\n",
    "        if(pmax==0.0):\n",
    "            #If the word is unknown,update the tag based on combined tagger of rule and lexicon defined above.\n",
    "            state_max = comb_tagger.tag([word])[0][1]\n",
    "        else:\n",
    "        # getting state for which probability is maximum\n",
    "           state_max = T[p.index(pmax)] \n",
    "        state.append(state_max)\n",
    "    return list(zip(words, state))"
   ]
  },
  {
   "cell_type": "markdown",
   "metadata": {},
   "source": [
    "#### Apply Modified Viterbi Algoritham on validation data(val_tagged_words)"
   ]
  },
  {
   "cell_type": "code",
   "execution_count": 41,
   "metadata": {},
   "outputs": [],
   "source": [
    "#tag the validation sentences with modified viterbi algoritham\n",
    "start = time.time()\n",
    "mod_tagged_seq = modified_Viterbi(val_tagged_words)\n",
    "end = time.time()\n",
    "Time_difference = end-start"
   ]
  },
  {
   "cell_type": "code",
   "execution_count": 42,
   "metadata": {},
   "outputs": [
    {
     "name": "stdout",
     "output_type": "stream",
     "text": [
      "1151.317920923233\n"
     ]
    }
   ],
   "source": [
    "#total time seconds taken to train modified viterbi algorithm\n",
    "print(Time_difference)"
   ]
  },
  {
   "cell_type": "markdown",
   "metadata": {},
   "source": [
    "#### Accuracy after Viterbi Modification Technique -1"
   ]
  },
  {
   "cell_type": "code",
   "execution_count": 43,
   "metadata": {},
   "outputs": [
    {
     "name": "stdout",
     "output_type": "stream",
     "text": [
      "Accuracy after Modification-1: 0.9532366755156219\n"
     ]
    }
   ],
   "source": [
    "#compute accuracy with modified viterbi algoritham\n",
    "check = [i for i, j in zip(mod_tagged_seq, val_run_base) if i == j] \n",
    "accuracy = len(check)/len(mod_tagged_seq)\n",
    "print(\"Accuracy after Modification-1:\",accuracy)"
   ]
  },
  {
   "cell_type": "markdown",
   "metadata": {},
   "source": [
    "#### It is also clearly visible that accuracy improved from 90% to 95% using modified Viterbi Technique-1."
   ]
  },
  {
   "cell_type": "markdown",
   "metadata": {},
   "source": [
    "### Solve the problem of unknown words : Viterbi Modification Technique - 2"
   ]
  },
  {
   "cell_type": "markdown",
   "metadata": {},
   "source": [
    " - We will modify Viterbi algorthm in such a way :\n",
    " - We will use transition probabilty only for tagging unknown words.\n",
    " - As emission probabilty is zero it's good idea to utilize only transition probability for tagging unknown words.\n",
    " - Lets make changes in Viterbi algorithm to solve problem of unknown words."
   ]
  },
  {
   "cell_type": "code",
   "execution_count": 44,
   "metadata": {},
   "outputs": [],
   "source": [
    "# Viterbi Heuristic\n",
    "def mod2_Viterbi(words, train_bag = train_tagged_words):\n",
    "    state = []\n",
    "    T = list(set([pair[1] for pair in train_bag]))\n",
    "    \n",
    "    for key, word in enumerate(words):\n",
    "        #initialise list of probability column for a given observation\n",
    "        p = [] \n",
    "        #initialise list of transition probabilty\n",
    "        ptran = []   \n",
    "        for tag in T:\n",
    "            if key == 0:\n",
    "                transition_p = tags_df.loc['.', tag]\n",
    "            else:\n",
    "                transition_p = tags_df.loc[state[-1], tag]\n",
    "                \n",
    "            #compute emission and state probabilities\n",
    "            emission_p = (word_given_tag(words[key], tag)[0])/(word_given_tag(words[key], tag)[1])\n",
    "            #compute state probability\n",
    "            state_probability = emission_p * transition_p \n",
    "            #store state probability into probability list\n",
    "            p.append(state_probability)\n",
    "            #store transition probability into transition probability list\n",
    "            ptran.append(transition_p)\n",
    "            \n",
    "        pmax = max(p)\n",
    "        #state_max = T[p.index(pmax)]\n",
    "        \n",
    "        #Check if state probability is zero\n",
    "        if(pmax==0.0):\n",
    "            ##If the word is unknown(Emission probability is 0),update the tag based on transition probability\n",
    "            pmax = max(ptran)\n",
    "            state_max = T[ptran.index(pmax)]\n",
    "        else:\n",
    "            #getting state for which probability is maximum\n",
    "            state_max = T[p.index(pmax)] \n",
    "        state.append(state_max)\n",
    "    return list(zip(words, state))"
   ]
  },
  {
   "cell_type": "code",
   "execution_count": 45,
   "metadata": {},
   "outputs": [],
   "source": [
    "# Running on entire validation dataset would take more than 30 minutes.. \n",
    "# Let's test our Viterbi algorithm on a few sample sentences of test dataset\n",
    "#random.seed(1234)\n",
    "# choose random 5 sents\n",
    "#rndom = [random.randint(1,len(validation)) for x in range(5)]\n",
    "# list of sents\n",
    "#test1_run = [validation[i] for i in rndom]\n",
    "\n",
    "# list of tagged words\n",
    "val2_run_base = [tup for sent in validation for tup in sent]\n",
    "\n",
    "# list of untagged words\n",
    "val2_tagged_words = [tup[0] for sent in validation for tup in sent]"
   ]
  },
  {
   "cell_type": "code",
   "execution_count": 46,
   "metadata": {},
   "outputs": [
    {
     "name": "stdout",
     "output_type": "stream",
     "text": [
      "1147.3697397708893\n"
     ]
    }
   ],
   "source": [
    "#tag the validation sentences with modified viterbi algoritham\n",
    "start = time.time()\n",
    "mod2_tagged_seq = mod2_Viterbi(val2_tagged_words)\n",
    "end = time.time()\n",
    "Time_difference2 = end-start\n",
    "#total time seconds taken to train modified viterbi algorithm\n",
    "print(Time_difference2)"
   ]
  },
  {
   "cell_type": "code",
   "execution_count": 47,
   "metadata": {},
   "outputs": [
    {
     "name": "stdout",
     "output_type": "stream",
     "text": [
      "Accuracy after Modification-2: 0.9340412497447417\n"
     ]
    }
   ],
   "source": [
    "#compute accuracy with modified viterbi algoritham\n",
    "check = [i for i, j in zip(mod2_tagged_seq, val2_run_base) if i == j] \n",
    "accuracy = len(check)/len(mod2_tagged_seq)\n",
    "print(\"Accuracy after Modification-2:\",accuracy)"
   ]
  },
  {
   "cell_type": "markdown",
   "metadata": {},
   "source": [
    "#### We got 93% accuracy with viterbi modification technique-2 as compared to 90% accuracy achieved in vanilla viterbi algorithm."
   ]
  },
  {
   "cell_type": "markdown",
   "metadata": {},
   "source": [
    "- Looking at the accuracy achieved from two modifications combined tagger(Lexicon & Rule Based) perfomed better where    improvement \n",
    "  in accuracy was more than 5% as compare to 3% improvemnet in second modfification.\n",
    "- So we will go ahead with combined tagger(Lexicon & Rule Based) which is better."
   ]
  },
  {
   "cell_type": "markdown",
   "metadata": {},
   "source": [
    "### List down cases which were incorrectly tagged by original POS tagger and got corrected by your modifications"
   ]
  },
  {
   "cell_type": "markdown",
   "metadata": {},
   "source": [
    "#### Prediction on test sentence file using vanilla Viterbi Algorithm"
   ]
  },
  {
   "cell_type": "code",
   "execution_count": 48,
   "metadata": {},
   "outputs": [
    {
     "name": "stdout",
     "output_type": "stream",
     "text": [
      "[('Android', 'DET'), ('is', 'VERB'), ('a', 'DET'), ('mobile', 'ADJ'), ('operating', 'NOUN'), ('system', 'NOUN'), ('developed', 'VERB'), ('by', 'ADP'), ('Google', 'DET'), ('.', '.'), ('Android', 'DET'), ('has', 'VERB'), ('been', 'VERB'), ('the', 'DET'), ('best-selling', 'ADJ'), ('OS', 'DET'), ('worldwide', 'DET'), ('on', 'ADP'), ('smartphones', 'DET'), ('since', 'ADP'), ('2011', 'DET'), ('and', 'CONJ'), ('on', 'ADP'), ('tablets', 'NOUN'), ('since', 'ADP'), ('2013', 'DET'), ('.', '.'), ('Google', 'DET'), ('and', 'CONJ'), ('Twitter', 'DET'), ('made', 'VERB'), ('a', 'DET'), ('deal', 'NOUN'), ('in', 'ADP'), ('2015', 'DET'), ('that', 'ADP'), ('gave', 'VERB'), ('Google', 'DET'), ('access', 'NOUN'), ('to', 'PRT'), ('Twitter', 'DET'), (\"'s\", 'VERB'), ('firehose', 'DET'), ('.', '.'), ('Twitter', 'DET'), ('is', 'VERB'), ('an', 'DET'), ('online', 'DET'), ('news', 'NOUN'), ('and', 'CONJ'), ('social', 'ADJ'), ('networking', 'DET'), ('service', 'NOUN'), ('on', 'ADP'), ('which', 'DET'), ('users', 'NOUN'), ('post', 'NOUN'), ('and', 'CONJ'), ('interact', 'DET'), ('with', 'ADP'), ('messages', 'DET'), ('known', 'VERB'), ('as', 'ADP'), ('tweets', 'DET'), ('.', '.'), ('Before', 'ADP'), ('entering', 'VERB'), ('politics', 'NOUN'), (',', '.'), ('Donald', 'NOUN'), ('Trump', 'NOUN'), ('was', 'VERB'), ('a', 'DET'), ('domineering', 'DET'), ('businessman', 'NOUN'), ('and', 'CONJ'), ('a', 'DET'), ('television', 'NOUN'), ('personality', 'DET'), ('.', '.'), ('The', 'DET'), ('2018', 'DET'), ('FIFA', 'DET'), ('World', 'NOUN'), ('Cup', 'DET'), ('is', 'VERB'), ('the', 'DET'), ('21st', 'DET'), ('FIFA', 'DET'), ('World', 'NOUN'), ('Cup', 'DET'), (',', '.'), ('an', 'DET'), ('international', 'ADJ'), ('football', 'NOUN'), ('tournament', 'DET'), ('contested', 'DET'), ('once', 'ADV'), ('every', 'DET'), ('four', 'NUM'), ('years', 'NOUN'), ('.', '.'), ('This', 'DET'), ('is', 'VERB'), ('the', 'DET'), ('first', 'ADJ'), ('World', 'NOUN'), ('Cup', 'DET'), ('to', 'PRT'), ('be', 'VERB'), ('held', 'VERB'), ('in', 'ADP'), ('Eastern', 'NOUN'), ('Europe', 'NOUN'), ('and', 'CONJ'), ('the', 'DET'), ('11th', 'ADJ'), ('time', 'NOUN'), ('that', 'ADP'), ('it', 'PRON'), ('has', 'VERB'), ('been', 'VERB'), ('held', 'VERB'), ('in', 'ADP'), ('Europe', 'NOUN'), ('.', '.'), ('Show', 'NOUN'), ('me', 'PRON'), ('the', 'DET'), ('cheapest', 'ADJ'), ('round', 'NOUN'), ('trips', 'DET'), ('from', 'ADP'), ('Dallas', 'NOUN'), ('to', 'PRT'), ('Atlanta', 'NOUN'), ('I', 'PRON'), ('would', 'VERB'), ('like', 'ADP'), ('to', 'PRT'), ('see', 'VERB'), ('flights', 'NOUN'), ('from', 'ADP'), ('Denver', 'NOUN'), ('to', 'PRT'), ('Philadelphia', 'NOUN'), ('.', '.'), ('Show', 'NOUN'), ('me', 'PRON'), ('the', 'DET'), ('price', 'NOUN'), ('of', 'ADP'), ('the', 'DET'), ('flights', 'NOUN'), ('leaving', 'VERB'), ('Atlanta', 'NOUN'), ('at', 'ADP'), ('about', 'ADP'), ('3', 'NUM'), ('in', 'ADP'), ('the', 'DET'), ('afternoon', 'NOUN'), ('and', 'CONJ'), ('arriving', 'DET'), ('in', 'ADP'), ('San', 'NOUN'), ('Francisco', 'NOUN'), ('.', '.'), ('NASA', 'DET'), ('invited', 'DET'), ('social', 'ADJ'), ('media', 'NOUN'), ('users', 'NOUN'), ('to', 'PRT'), ('experience', 'NOUN'), ('the', 'DET'), ('launch', 'NOUN'), ('of', 'ADP'), ('ICESAT-2', 'DET'), ('Satellite', 'DET'), ('.', '.')]\n"
     ]
    }
   ],
   "source": [
    "#lets do predictions on test file that was provided using vanilla viterbi algoritham.\n",
    "test_list =[]\n",
    "for l in test_set:\n",
    "    test_list=test_list+list(Viterbi(word_tokenize(l)))\n",
    "print(test_list)"
   ]
  },
  {
   "cell_type": "markdown",
   "metadata": {},
   "source": [
    "#### Prediction on test sentence file using modified Viterbi Algorithm -1 "
   ]
  },
  {
   "cell_type": "code",
   "execution_count": 49,
   "metadata": {},
   "outputs": [
    {
     "name": "stdout",
     "output_type": "stream",
     "text": [
      "[('Android', 'NOUN'), ('is', 'VERB'), ('a', 'DET'), ('mobile', 'ADJ'), ('operating', 'NOUN'), ('system', 'NOUN'), ('developed', 'VERB'), ('by', 'ADP'), ('Google', 'NOUN'), ('.', '.'), ('Android', 'NOUN'), ('has', 'VERB'), ('been', 'VERB'), ('the', 'DET'), ('best-selling', 'ADJ'), ('OS', 'NOUN'), ('worldwide', 'NOUN'), ('on', 'ADP'), ('smartphones', 'VERB'), ('since', 'ADP'), ('2011', 'NUM'), ('and', 'CONJ'), ('on', 'ADP'), ('tablets', 'NOUN'), ('since', 'ADP'), ('2013', 'NUM'), ('.', '.'), ('Google', 'NOUN'), ('and', 'CONJ'), ('Twitter', 'NOUN'), ('made', 'VERB'), ('a', 'DET'), ('deal', 'NOUN'), ('in', 'ADP'), ('2015', 'NUM'), ('that', 'ADP'), ('gave', 'VERB'), ('Google', 'NOUN'), ('access', 'NOUN'), ('to', 'PRT'), ('Twitter', 'NOUN'), (\"'s\", 'PRT'), ('firehose', 'NOUN'), ('.', '.'), ('Twitter', 'NOUN'), ('is', 'VERB'), ('an', 'DET'), ('online', 'NOUN'), ('news', 'NOUN'), ('and', 'CONJ'), ('social', 'ADJ'), ('networking', 'VERB'), ('service', 'NOUN'), ('on', 'ADP'), ('which', 'DET'), ('users', 'NOUN'), ('post', 'NOUN'), ('and', 'CONJ'), ('interact', 'NOUN'), ('with', 'ADP'), ('messages', 'VERB'), ('known', 'VERB'), ('as', 'ADP'), ('tweets', 'NOUN'), ('.', '.'), ('Before', 'ADP'), ('entering', 'VERB'), ('politics', 'NOUN'), (',', '.'), ('Donald', 'NOUN'), ('Trump', 'NOUN'), ('was', 'VERB'), ('a', 'DET'), ('domineering', 'VERB'), ('businessman', 'NOUN'), ('and', 'CONJ'), ('a', 'DET'), ('television', 'NOUN'), ('personality', 'NOUN'), ('.', '.'), ('The', 'DET'), ('2018', 'NUM'), ('FIFA', 'NOUN'), ('World', 'NOUN'), ('Cup', 'NOUN'), ('is', 'VERB'), ('the', 'DET'), ('21st', 'NOUN'), ('FIFA', 'NOUN'), ('World', 'NOUN'), ('Cup', 'NOUN'), (',', '.'), ('an', 'DET'), ('international', 'ADJ'), ('football', 'NOUN'), ('tournament', 'NOUN'), ('contested', 'VERB'), ('once', 'ADV'), ('every', 'DET'), ('four', 'NUM'), ('years', 'NOUN'), ('.', '.'), ('This', 'DET'), ('is', 'VERB'), ('the', 'DET'), ('first', 'ADJ'), ('World', 'NOUN'), ('Cup', 'NOUN'), ('to', 'PRT'), ('be', 'VERB'), ('held', 'VERB'), ('in', 'ADP'), ('Eastern', 'NOUN'), ('Europe', 'NOUN'), ('and', 'CONJ'), ('the', 'DET'), ('11th', 'ADJ'), ('time', 'NOUN'), ('that', 'ADP'), ('it', 'PRON'), ('has', 'VERB'), ('been', 'VERB'), ('held', 'VERB'), ('in', 'ADP'), ('Europe', 'NOUN'), ('.', '.'), ('Show', 'NOUN'), ('me', 'PRON'), ('the', 'DET'), ('cheapest', 'ADJ'), ('round', 'NOUN'), ('trips', 'NOUN'), ('from', 'ADP'), ('Dallas', 'NOUN'), ('to', 'PRT'), ('Atlanta', 'NOUN'), ('I', 'PRON'), ('would', 'VERB'), ('like', 'ADP'), ('to', 'PRT'), ('see', 'VERB'), ('flights', 'NOUN'), ('from', 'ADP'), ('Denver', 'NOUN'), ('to', 'PRT'), ('Philadelphia', 'NOUN'), ('.', '.'), ('Show', 'NOUN'), ('me', 'PRON'), ('the', 'DET'), ('price', 'NOUN'), ('of', 'ADP'), ('the', 'DET'), ('flights', 'NOUN'), ('leaving', 'VERB'), ('Atlanta', 'NOUN'), ('at', 'ADP'), ('about', 'ADP'), ('3', 'NUM'), ('in', 'ADP'), ('the', 'DET'), ('afternoon', 'NOUN'), ('and', 'CONJ'), ('arriving', 'VERB'), ('in', 'ADP'), ('San', 'NOUN'), ('Francisco', 'NOUN'), ('.', '.'), ('NASA', 'NOUN'), ('invited', 'VERB'), ('social', 'ADJ'), ('media', 'NOUN'), ('users', 'NOUN'), ('to', 'PRT'), ('experience', 'NOUN'), ('the', 'DET'), ('launch', 'NOUN'), ('of', 'ADP'), ('ICESAT-2', 'NOUN'), ('Satellite', 'NOUN'), ('.', '.')]\n"
     ]
    }
   ],
   "source": [
    "#lets do predictions on test file that was provided using modified viterbi algoritham.\n",
    "test_list2 =[]\n",
    "for l in test_set:\n",
    "    test_list2=test_list2+list(modified_Viterbi(word_tokenize(l)))\n",
    "print(test_list2)"
   ]
  },
  {
   "cell_type": "markdown",
   "metadata": {},
   "source": [
    "#### Prediction on test sentence file using modified Viterbi Algorithm -2"
   ]
  },
  {
   "cell_type": "code",
   "execution_count": 50,
   "metadata": {},
   "outputs": [
    {
     "name": "stdout",
     "output_type": "stream",
     "text": [
      "[('Android', 'NOUN'), ('is', 'VERB'), ('a', 'DET'), ('mobile', 'ADJ'), ('operating', 'NOUN'), ('system', 'NOUN'), ('developed', 'VERB'), ('by', 'ADP'), ('Google', 'DET'), ('.', '.'), ('Android', 'NOUN'), ('has', 'VERB'), ('been', 'VERB'), ('the', 'DET'), ('best-selling', 'ADJ'), ('OS', 'NOUN'), ('worldwide', 'NOUN'), ('on', 'ADP'), ('smartphones', 'DET'), ('since', 'ADP'), ('2011', 'DET'), ('and', 'CONJ'), ('on', 'ADP'), ('tablets', 'NOUN'), ('since', 'ADP'), ('2013', 'DET'), ('.', '.'), ('Google', 'NOUN'), ('and', 'CONJ'), ('Twitter', 'NOUN'), ('made', 'VERB'), ('a', 'DET'), ('deal', 'NOUN'), ('in', 'ADP'), ('2015', 'DET'), ('that', 'ADP'), ('gave', 'VERB'), ('Google', 'X'), ('access', 'NOUN'), ('to', 'PRT'), ('Twitter', 'VERB'), (\"'s\", 'PRT'), ('firehose', 'VERB'), ('.', '.'), ('Twitter', 'NOUN'), ('is', 'VERB'), ('an', 'DET'), ('online', 'NOUN'), ('news', 'NOUN'), ('and', 'CONJ'), ('social', 'ADJ'), ('networking', 'NOUN'), ('service', 'NOUN'), ('on', 'ADP'), ('which', 'DET'), ('users', 'NOUN'), ('post', 'NOUN'), ('and', 'CONJ'), ('interact', 'NOUN'), ('with', 'ADP'), ('messages', 'DET'), ('known', 'VERB'), ('as', 'ADP'), ('tweets', 'DET'), ('.', '.'), ('Before', 'ADP'), ('entering', 'VERB'), ('politics', 'NOUN'), (',', '.'), ('Donald', 'NOUN'), ('Trump', 'NOUN'), ('was', 'VERB'), ('a', 'DET'), ('domineering', 'NOUN'), ('businessman', 'NOUN'), ('and', 'CONJ'), ('a', 'DET'), ('television', 'NOUN'), ('personality', 'NOUN'), ('.', '.'), ('The', 'DET'), ('2018', 'NOUN'), ('FIFA', 'NOUN'), ('World', 'NOUN'), ('Cup', 'NOUN'), ('is', 'VERB'), ('the', 'DET'), ('21st', 'NOUN'), ('FIFA', 'NOUN'), ('World', 'NOUN'), ('Cup', 'NOUN'), (',', '.'), ('an', 'DET'), ('international', 'ADJ'), ('football', 'NOUN'), ('tournament', 'NOUN'), ('contested', 'NOUN'), ('once', 'ADV'), ('every', 'DET'), ('four', 'NUM'), ('years', 'NOUN'), ('.', '.'), ('This', 'DET'), ('is', 'VERB'), ('the', 'DET'), ('first', 'ADJ'), ('World', 'NOUN'), ('Cup', 'NOUN'), ('to', 'PRT'), ('be', 'VERB'), ('held', 'VERB'), ('in', 'ADP'), ('Eastern', 'NOUN'), ('Europe', 'NOUN'), ('and', 'CONJ'), ('the', 'DET'), ('11th', 'ADJ'), ('time', 'NOUN'), ('that', 'ADP'), ('it', 'PRON'), ('has', 'VERB'), ('been', 'VERB'), ('held', 'VERB'), ('in', 'ADP'), ('Europe', 'NOUN'), ('.', '.'), ('Show', 'NOUN'), ('me', 'PRON'), ('the', 'DET'), ('cheapest', 'ADJ'), ('round', 'NOUN'), ('trips', 'NOUN'), ('from', 'ADP'), ('Dallas', 'NOUN'), ('to', 'PRT'), ('Atlanta', 'NOUN'), ('I', 'PRON'), ('would', 'VERB'), ('like', 'ADP'), ('to', 'PRT'), ('see', 'VERB'), ('flights', 'NOUN'), ('from', 'ADP'), ('Denver', 'NOUN'), ('to', 'PRT'), ('Philadelphia', 'NOUN'), ('.', '.'), ('Show', 'NOUN'), ('me', 'PRON'), ('the', 'DET'), ('price', 'NOUN'), ('of', 'ADP'), ('the', 'DET'), ('flights', 'NOUN'), ('leaving', 'VERB'), ('Atlanta', 'NOUN'), ('at', 'ADP'), ('about', 'ADP'), ('3', 'NUM'), ('in', 'ADP'), ('the', 'DET'), ('afternoon', 'NOUN'), ('and', 'CONJ'), ('arriving', 'NOUN'), ('in', 'ADP'), ('San', 'NOUN'), ('Francisco', 'NOUN'), ('.', '.'), ('NASA', 'NOUN'), ('invited', 'NOUN'), ('social', 'ADJ'), ('media', 'NOUN'), ('users', 'NOUN'), ('to', 'PRT'), ('experience', 'NOUN'), ('the', 'DET'), ('launch', 'NOUN'), ('of', 'ADP'), ('ICESAT-2', 'DET'), ('Satellite', 'NOUN'), ('.', '.')]\n"
     ]
    }
   ],
   "source": [
    "#lets do predictions on test file that was provided using modified viterbi algoritham.\n",
    "test_list3 =[]\n",
    "for l in test_set:\n",
    "    test_list3=test_list3+list(mod2_Viterbi(word_tokenize(l)))\n",
    "print(test_list3)"
   ]
  },
  {
   "cell_type": "markdown",
   "metadata": {},
   "source": [
    "#### Updated Word Tagged Cases in Validation Dataset: "
   ]
  },
  {
   "cell_type": "code",
   "execution_count": 51,
   "metadata": {},
   "outputs": [
    {
     "data": {
      "text/plain": [
       "[(('American', 'ADJ'), ('American', 'NOUN')),\n",
       " (('that', 'ADP'), ('that', 'DET')),\n",
       " (('less', 'ADJ'), ('less', 'ADV')),\n",
       " (('up', 'ADV'), ('up', 'ADP')),\n",
       " (('overnight', 'NOUN'), ('overnight', 'ADJ')),\n",
       " (('use', 'VERB'), ('use', 'NOUN')),\n",
       " (('half', 'NOUN'), ('half', 'DET')),\n",
       " (('earlier', 'ADV'), ('earlier', 'ADJ')),\n",
       " (('that', 'ADP'), ('that', 'DET')),\n",
       " (('Municipal', 'NOUN'), ('Municipal', 'ADJ')),\n",
       " (('that', 'ADP'), ('that', 'DET')),\n",
       " (('regardless', 'NOUN'), ('regardless', 'ADV')),\n",
       " (('sue', 'NOUN'), ('sue', 'VERB')),\n",
       " (('combined', 'ADJ'), ('combined', 'VERB')),\n",
       " (('architectural', 'NOUN'), ('architectural', 'ADJ')),\n",
       " (('purchasing', 'NOUN'), ('purchasing', 'VERB')),\n",
       " (('comments', 'VERB'), ('comments', 'NOUN')),\n",
       " (('principal', 'NOUN'), ('principal', 'ADJ')),\n",
       " (('cause', 'VERB'), ('cause', 'NOUN')),\n",
       " (('substance-abusing', 'VERB'), ('substance-abusing', 'ADJ')),\n",
       " (('half-hour', 'ADJ'), ('half-hour', 'NOUN')),\n",
       " (('common', 'ADJ'), ('common', 'NOUN')),\n",
       " (('up', 'ADV'), ('up', 'ADP')),\n",
       " (('refer', 'NOUN'), ('refer', 'VERB')),\n",
       " (('clouding', 'VERB'), ('clouding', 'NOUN')),\n",
       " (('up', 'ADV'), ('up', 'PRT')),\n",
       " (('endless', 'NOUN'), ('endless', 'ADJ')),\n",
       " (('celebrate', 'NOUN'), ('celebrate', 'VERB')),\n",
       " (('repay', 'NOUN'), ('repay', 'VERB')),\n",
       " (('expressly', 'NOUN'), ('expressly', 'ADV')),\n",
       " (('own', 'ADJ'), ('own', 'VERB')),\n",
       " (('more', 'ADV'), ('more', 'ADJ')),\n",
       " (('off', 'PRT'), ('off', 'ADP')),\n",
       " (('finance', 'VERB'), ('finance', 'NOUN')),\n",
       " (('much', 'ADV'), ('much', 'ADJ')),\n",
       " (('refile', 'NOUN'), ('refile', 'VERB')),\n",
       " (('review', 'VERB'), ('review', 'NOUN')),\n",
       " (('so', 'ADV'), ('so', 'ADP')),\n",
       " (('one', 'NUM'), ('one', 'NOUN')),\n",
       " (('crack', 'VERB'), ('crack', 'NOUN')),\n",
       " (('dead-eyed', 'VERB'), ('dead-eyed', 'ADJ')),\n",
       " (('four-year-old', 'NOUN'), ('four-year-old', 'ADJ')),\n",
       " (('one', 'NUM'), ('one', 'PRON')),\n",
       " (('up', 'ADV'), ('up', 'PRT')),\n",
       " (('falsify', 'NOUN'), ('falsify', 'VERB')),\n",
       " (('there', 'DET'), ('there', 'ADV')),\n",
       " (('plainclothes', 'VERB'), ('plainclothes', 'NOUN')),\n",
       " (('nearby', 'ADJ'), ('nearby', 'ADV')),\n",
       " (('unmarked', 'VERB'), ('unmarked', 'ADJ')),\n",
       " (('act', 'VERB'), ('act', 'NOUN')),\n",
       " (('issue', 'NOUN'), ('issue', 'VERB')),\n",
       " (('start-up', 'ADJ'), ('start-up', 'NOUN')),\n",
       " (('Typical', 'NOUN'), ('Typical', 'ADJ')),\n",
       " (('briefing', 'VERB'), ('briefing', 'NOUN')),\n",
       " (('subject', 'ADJ'), ('subject', 'NOUN')),\n",
       " (('Earlier', 'ADJ'), ('Earlier', 'ADV')),\n",
       " (('American', 'ADJ'), ('American', 'NOUN')),\n",
       " (('next', 'ADP'), ('next', 'ADJ')),\n",
       " (('little', 'ADV'), ('little', 'ADJ')),\n",
       " (('Indexing', 'VERB'), ('Indexing', 'NOUN')),\n",
       " (('claims', 'VERB'), ('claims', 'NOUN')),\n",
       " (('earlier', 'ADV'), ('earlier', 'ADJ')),\n",
       " (('up', 'ADV'), ('up', 'ADP')),\n",
       " (('accidentally', 'NOUN'), ('accidentally', 'ADV')),\n",
       " (('war-rationed', 'VERB'), ('war-rationed', 'ADJ')),\n",
       " (('goodies', 'VERB'), ('goodies', 'NOUN')),\n",
       " (('in', 'ADP'), ('in', 'NOUN')),\n",
       " (('37-year-old', 'NOUN'), ('37-year-old', 'ADJ')),\n",
       " (('that', 'ADP'), ('that', 'DET')),\n",
       " (('stock-index', 'NOUN'), ('stock-index', 'ADJ')),\n",
       " (('total', 'ADJ'), ('total', 'NOUN')),\n",
       " (('that', 'ADP'), ('that', 'DET')),\n",
       " (('liabilities', 'VERB'), ('liabilities', 'NOUN')),\n",
       " (('midrange', 'NOUN'), ('midrange', 'ADJ')),\n",
       " (('networking', 'VERB'), ('networking', 'NOUN')),\n",
       " (('diminish', 'NOUN'), ('diminish', 'VERB')),\n",
       " (('East', 'NOUN'), ('East', 'ADJ')),\n",
       " (('Anglian', 'NOUN'), ('Anglian', 'ADJ')),\n",
       " (('that', 'ADP'), ('that', 'DET')),\n",
       " (('coordinate', 'NOUN'), ('coordinate', 'VERB')),\n",
       " (('deliberately', 'NOUN'), ('deliberately', 'ADV')),\n",
       " (('disconnect', 'NOUN'), ('disconnect', 'VERB')),\n",
       " (('Longer', 'NOUN'), ('Longer', 'ADJ')),\n",
       " (('flows', 'NOUN'), ('flows', 'VERB')),\n",
       " (('much', 'ADV'), ('much', 'ADJ')),\n",
       " (('that', 'ADP'), ('that', 'DET')),\n",
       " ((\"'s\", 'PRT'), (\"'s\", 'VERB')),\n",
       " (('following', 'NOUN'), ('following', 'VERB')),\n",
       " (('millionaires', 'VERB'), ('millionaires', 'NOUN')),\n",
       " (('20s', 'NOUN'), ('20s', 'NUM')),\n",
       " (('30s', 'NOUN'), ('30s', 'NUM')),\n",
       " (('53-year-old', 'NOUN'), ('53-year-old', 'ADJ')),\n",
       " (('there', 'DET'), ('there', 'ADV')),\n",
       " (('photocopy', 'NOUN'), ('photocopy', 'VERB')),\n",
       " (('Yet', 'CONJ'), ('Yet', 'ADV')),\n",
       " (('equals', 'NOUN'), ('equals', 'VERB')),\n",
       " (('Prior', 'NOUN'), ('Prior', 'ADV')),\n",
       " (('speculate', 'NOUN'), ('speculate', 'VERB')),\n",
       " (('down', 'ADV'), ('down', 'ADP')),\n",
       " (('slippery', 'NOUN'), ('slippery', 'ADJ')),\n",
       " (('out', 'PRT'), ('out', 'ADP')),\n",
       " (('apprehensive', 'NOUN'), ('apprehensive', 'ADJ')),\n",
       " (('step', 'NOUN'), ('step', 'VERB')),\n",
       " (('triple-A-rated', 'VERB'), ('triple-A-rated', 'ADJ')),\n",
       " (('short', 'ADJ'), ('short', 'ADV')),\n",
       " (('up', 'ADV'), ('up', 'PRT')),\n",
       " (('teenage', 'NOUN'), ('teenage', 'ADJ')),\n",
       " (('swim', 'NOUN'), ('swim', 'VERB')),\n",
       " (('purrs', 'NOUN'), ('purrs', 'VERB')),\n",
       " (('that', 'ADP'), ('that', 'DET')),\n",
       " (('preferred', 'ADJ'), ('preferred', 'VERB')),\n",
       " (('non-core', 'NOUN'), ('non-core', 'ADJ')),\n",
       " (('Minneapolis-based', 'VERB'), ('Minneapolis-based', 'ADJ')),\n",
       " (('first', 'ADJ'), ('first', 'ADV')),\n",
       " (('reclaim', 'NOUN'), ('reclaim', 'VERB')),\n",
       " (('price-support', 'NOUN'), ('price-support', 'ADJ')),\n",
       " (('happier', 'NOUN'), ('happier', 'ADJ')),\n",
       " (('diplomatic', 'NOUN'), ('diplomatic', 'ADJ')),\n",
       " (('attack', 'NOUN'), ('attack', 'VERB')),\n",
       " (('first', 'ADJ'), ('first', 'ADV')),\n",
       " (('last', 'ADJ'), ('last', 'ADV')),\n",
       " (('weird', 'NOUN'), ('weird', 'ADJ')),\n",
       " (('aims', 'NOUN'), ('aims', 'VERB')),\n",
       " (('that', 'ADP'), ('that', 'DET')),\n",
       " (('there', 'DET'), ('there', 'ADV')),\n",
       " (('what', 'PRON'), ('what', 'DET')),\n",
       " (('open', 'VERB'), ('open', 'ADJ')),\n",
       " (('drink', 'VERB'), ('drink', 'NOUN')),\n",
       " (('financial-services', 'ADJ'), ('financial-services', 'NOUN')),\n",
       " (('holding', 'NOUN'), ('holding', 'VERB')),\n",
       " (('step', 'NOUN'), ('step', 'VERB')),\n",
       " (('disembodied', 'VERB'), ('disembodied', 'ADJ')),\n",
       " (('male', 'ADJ'), ('male', 'NOUN')),\n",
       " (('like', 'ADP'), ('like', 'VERB')),\n",
       " (('more', 'ADV'), ('more', 'ADJ')),\n",
       " (('ceramic', 'NOUN'), ('ceramic', 'ADJ')),\n",
       " (('promise', 'NOUN'), ('promise', 'VERB')),\n",
       " (('technologies', 'VERB'), ('technologies', 'NOUN')),\n",
       " (('book', 'NOUN'), ('book', 'VERB')),\n",
       " (('stocks', 'NOUN'), ('stocks', 'ADV')),\n",
       " (('up', 'PRT'), ('up', 'ADP')),\n",
       " (('citizen-sparked', 'VERB'), ('citizen-sparked', 'ADJ')),\n",
       " (('odd-year', 'NOUN'), ('odd-year', 'ADJ')),\n",
       " (('crystal-lattice', 'NOUN'), ('crystal-lattice', 'ADJ')),\n",
       " (('current', 'ADJ'), ('current', 'NOUN')),\n",
       " (('general', 'ADJ'), ('general', 'NOUN')),\n",
       " (('reportedly', 'NOUN'), ('reportedly', 'ADV')),\n",
       " (('computerized', 'VERB'), ('computerized', 'ADJ')),\n",
       " (('much', 'ADV'), ('much', 'ADJ')),\n",
       " (('that', 'ADP'), ('that', 'ADV')),\n",
       " (('up', 'ADV'), ('up', 'PRT')),\n",
       " (('record', 'VERB'), ('record', 'ADJ')),\n",
       " (('cardiovascular', 'NOUN'), ('cardiovascular', 'ADJ')),\n",
       " (('infectious', 'NOUN'), ('infectious', 'ADJ')),\n",
       " (('pirates', 'VERB'), ('pirates', 'NOUN')),\n",
       " (('heating', 'NOUN'), ('heating', 'VERB')),\n",
       " (('prompts', 'NOUN'), ('prompts', 'VERB')),\n",
       " (('up', 'ADV'), ('up', 'PRT')),\n",
       " (('bilingual', 'NOUN'), ('bilingual', 'ADJ')),\n",
       " (('report', 'VERB'), ('report', 'NOUN')),\n",
       " (('manufacturing', 'VERB'), ('manufacturing', 'NOUN')),\n",
       " (('contract', 'NOUN'), ('contract', 'VERB')),\n",
       " (('single-family', 'NOUN'), ('single-family', 'ADJ')),\n",
       " (('up', 'ADV'), ('up', 'ADP')),\n",
       " (('1980s', 'NUM'), ('1980s', 'NOUN')),\n",
       " (('yellow', 'NOUN'), ('yellow', 'ADJ')),\n",
       " (('depends', 'NOUN'), ('depends', 'VERB')),\n",
       " (('long', 'ADV'), ('long', 'ADJ')),\n",
       " (('back', 'PRT'), ('back', 'ADV')),\n",
       " (('warning', 'NOUN'), ('warning', 'VERB')),\n",
       " (('subsequent', 'NOUN'), ('subsequent', 'ADJ')),\n",
       " (('that', 'ADP'), ('that', 'DET')),\n",
       " (('down', 'ADP'), ('down', 'PRT')),\n",
       " (('intermediate', 'NOUN'), ('intermediate', 'ADJ')),\n",
       " (('definitive', 'NOUN'), ('definitive', 'ADJ')),\n",
       " (('rechargeable', 'NOUN'), ('rechargeable', 'ADJ')),\n",
       " (('mature', 'VERB'), ('mature', 'ADJ')),\n",
       " (('ENDED', 'NOUN'), ('ENDED', 'VERB')),\n",
       " (('warns', 'NOUN'), ('warns', 'VERB')),\n",
       " (('discourage', 'NOUN'), ('discourage', 'VERB')),\n",
       " (('fault', 'NOUN'), ('fault', 'VERB')),\n",
       " (('jet', 'VERB'), ('jet', 'NOUN')),\n",
       " (('planes', 'VERB'), ('planes', 'NOUN')),\n",
       " (('cocky', 'NOUN'), ('cocky', 'ADJ')),\n",
       " (('yielding', 'VERB'), ('yielding', 'ADJ')),\n",
       " (('public', 'NOUN'), ('public', 'ADJ')),\n",
       " (('Chinese', 'ADJ'), ('Chinese', 'NOUN')),\n",
       " (('aim', 'VERB'), ('aim', 'NOUN')),\n",
       " (('low-tech', 'NOUN'), ('low-tech', 'ADJ')),\n",
       " (('catch', 'NOUN'), ('catch', 'VERB')),\n",
       " (('strategic', 'NOUN'), ('strategic', 'ADJ')),\n",
       " (('up', 'ADV'), ('up', 'PRT')),\n",
       " (('No', 'DET'), ('No', 'ADV')),\n",
       " (('triple', 'NOUN'), ('triple', 'ADV')),\n",
       " (('Washington-based', 'VERB'), ('Washington-based', 'ADJ')),\n",
       " (('A', 'DET'), ('A', 'NOUN')),\n",
       " (('hottest', 'NOUN'), ('hottest', 'ADJ')),\n",
       " (('duckling', 'VERB'), ('duckling', 'NOUN')),\n",
       " (('chocolate', 'NOUN'), ('chocolate', 'ADJ')),\n",
       " (('till', 'NOUN'), ('till', 'ADP')),\n",
       " (('all', 'DET'), ('all', 'ADV')),\n",
       " (('right', 'NOUN'), ('right', 'ADV')),\n",
       " (('testify', 'NOUN'), ('testify', 'VERB')),\n",
       " (('b', 'NOUN'), ('b', 'X')),\n",
       " (('84-year-old', 'NOUN'), ('84-year-old', 'ADJ')),\n",
       " (('amazingly', 'NOUN'), ('amazingly', 'ADV')),\n",
       " (('study', 'NOUN'), ('study', 'VERB')),\n",
       " (('soured', 'VERB'), ('soured', 'ADJ')),\n",
       " (('equivalent', 'NOUN'), ('equivalent', 'ADJ')),\n",
       " (('average', 'ADJ'), ('average', 'NOUN')),\n",
       " (('in', 'ADP'), ('in', 'PRT')),\n",
       " (('public', 'NOUN'), ('public', 'ADJ')),\n",
       " (('up', 'ADV'), ('up', 'PRT')),\n",
       " (('that', 'DET'), ('that', 'ADP')),\n",
       " (('more', 'ADV'), ('more', 'ADJ')),\n",
       " (('out', 'PRT'), ('out', 'ADP')),\n",
       " (('Nasty', 'NOUN'), ('Nasty', 'ADJ')),\n",
       " (('innuendoes', 'VERB'), ('innuendoes', 'NOUN')),\n",
       " (('prosecute', 'NOUN'), ('prosecute', 'VERB')),\n",
       " (('that', 'ADP'), ('that', 'DET')),\n",
       " (('Generally', 'NOUN'), ('Generally', 'ADV')),\n",
       " (('quantitive', 'NOUN'), ('quantitive', 'ADJ')),\n",
       " (('money-center', 'NOUN'), ('money-center', 'ADJ')),\n",
       " (('as', 'ADP'), ('as', 'ADV')),\n",
       " (('there', 'DET'), ('there', 'ADV')),\n",
       " (('purchasing', 'NOUN'), ('purchasing', 'VERB')),\n",
       " (('manufacturing', 'NOUN'), ('manufacturing', 'VERB')),\n",
       " (('full-fledged', 'VERB'), ('full-fledged', 'ADJ')),\n",
       " (('vital', 'NOUN'), ('vital', 'ADJ'))]"
      ]
     },
     "execution_count": 51,
     "metadata": {},
     "output_type": "execute_result"
    }
   ],
   "source": [
    "#lets take a look into mapping of the corrected tagged words with earlier incorrect tagged words\n",
    "updated_valtagged_cases = [j for i, j in enumerate(zip(mod_tagged_seq, val_run_base)) if j[0]!=j[1]]\n",
    "updated_valtagged_cases"
   ]
  },
  {
   "cell_type": "markdown",
   "metadata": {},
   "source": [
    "#### Updated Word Tagged Cases in test sentence Dataset:  Viterbi Modification -2"
   ]
  },
  {
   "cell_type": "code",
   "execution_count": 52,
   "metadata": {},
   "outputs": [
    {
     "data": {
      "text/plain": [
       "[(('Android', 'DET'), ('Android', 'NOUN')),\n",
       " (('Android', 'DET'), ('Android', 'NOUN')),\n",
       " (('OS', 'DET'), ('OS', 'NOUN')),\n",
       " (('worldwide', 'DET'), ('worldwide', 'NOUN')),\n",
       " (('Google', 'DET'), ('Google', 'NOUN')),\n",
       " (('Twitter', 'DET'), ('Twitter', 'NOUN')),\n",
       " (('Google', 'DET'), ('Google', 'X')),\n",
       " (('Twitter', 'DET'), ('Twitter', 'VERB')),\n",
       " ((\"'s\", 'VERB'), (\"'s\", 'PRT')),\n",
       " (('firehose', 'DET'), ('firehose', 'VERB')),\n",
       " (('Twitter', 'DET'), ('Twitter', 'NOUN')),\n",
       " (('online', 'DET'), ('online', 'NOUN')),\n",
       " (('networking', 'DET'), ('networking', 'NOUN')),\n",
       " (('interact', 'DET'), ('interact', 'NOUN')),\n",
       " (('domineering', 'DET'), ('domineering', 'NOUN')),\n",
       " (('personality', 'DET'), ('personality', 'NOUN')),\n",
       " (('2018', 'DET'), ('2018', 'NOUN')),\n",
       " (('FIFA', 'DET'), ('FIFA', 'NOUN')),\n",
       " (('Cup', 'DET'), ('Cup', 'NOUN')),\n",
       " (('21st', 'DET'), ('21st', 'NOUN')),\n",
       " (('FIFA', 'DET'), ('FIFA', 'NOUN')),\n",
       " (('Cup', 'DET'), ('Cup', 'NOUN')),\n",
       " (('tournament', 'DET'), ('tournament', 'NOUN')),\n",
       " (('contested', 'DET'), ('contested', 'NOUN')),\n",
       " (('Cup', 'DET'), ('Cup', 'NOUN')),\n",
       " (('trips', 'DET'), ('trips', 'NOUN')),\n",
       " (('arriving', 'DET'), ('arriving', 'NOUN')),\n",
       " (('NASA', 'DET'), ('NASA', 'NOUN')),\n",
       " (('invited', 'DET'), ('invited', 'NOUN')),\n",
       " (('Satellite', 'DET'), ('Satellite', 'NOUN'))]"
      ]
     },
     "execution_count": 52,
     "metadata": {},
     "output_type": "execute_result"
    }
   ],
   "source": [
    "#lets take a look into mapping of the corrected tagged words with earlier incorrect tagged words in test set\n",
    "updated_tagged_cases2 = [j for i, j in enumerate(zip(test_list, test_list3)) if j[0]!=j[1]]\n",
    "updated_tagged_cases2"
   ]
  },
  {
   "cell_type": "markdown",
   "metadata": {},
   "source": [
    "#### Updated Word Tagged Cases in test sentence Dataset:  Viterbi Modification -1"
   ]
  },
  {
   "cell_type": "code",
   "execution_count": 53,
   "metadata": {},
   "outputs": [
    {
     "data": {
      "text/plain": [
       "[(('Android', 'DET'), ('Android', 'NOUN')),\n",
       " (('Google', 'DET'), ('Google', 'NOUN')),\n",
       " (('Android', 'DET'), ('Android', 'NOUN')),\n",
       " (('OS', 'DET'), ('OS', 'NOUN')),\n",
       " (('worldwide', 'DET'), ('worldwide', 'NOUN')),\n",
       " (('smartphones', 'DET'), ('smartphones', 'VERB')),\n",
       " (('2011', 'DET'), ('2011', 'NUM')),\n",
       " (('2013', 'DET'), ('2013', 'NUM')),\n",
       " (('Google', 'DET'), ('Google', 'NOUN')),\n",
       " (('Twitter', 'DET'), ('Twitter', 'NOUN')),\n",
       " (('2015', 'DET'), ('2015', 'NUM')),\n",
       " (('Google', 'DET'), ('Google', 'NOUN')),\n",
       " (('Twitter', 'DET'), ('Twitter', 'NOUN')),\n",
       " ((\"'s\", 'VERB'), (\"'s\", 'PRT')),\n",
       " (('firehose', 'DET'), ('firehose', 'NOUN')),\n",
       " (('Twitter', 'DET'), ('Twitter', 'NOUN')),\n",
       " (('online', 'DET'), ('online', 'NOUN')),\n",
       " (('networking', 'DET'), ('networking', 'VERB')),\n",
       " (('interact', 'DET'), ('interact', 'NOUN')),\n",
       " (('messages', 'DET'), ('messages', 'VERB')),\n",
       " (('tweets', 'DET'), ('tweets', 'NOUN')),\n",
       " (('domineering', 'DET'), ('domineering', 'VERB')),\n",
       " (('personality', 'DET'), ('personality', 'NOUN')),\n",
       " (('2018', 'DET'), ('2018', 'NUM')),\n",
       " (('FIFA', 'DET'), ('FIFA', 'NOUN')),\n",
       " (('Cup', 'DET'), ('Cup', 'NOUN')),\n",
       " (('21st', 'DET'), ('21st', 'NOUN')),\n",
       " (('FIFA', 'DET'), ('FIFA', 'NOUN')),\n",
       " (('Cup', 'DET'), ('Cup', 'NOUN')),\n",
       " (('tournament', 'DET'), ('tournament', 'NOUN')),\n",
       " (('contested', 'DET'), ('contested', 'VERB')),\n",
       " (('Cup', 'DET'), ('Cup', 'NOUN')),\n",
       " (('trips', 'DET'), ('trips', 'NOUN')),\n",
       " (('arriving', 'DET'), ('arriving', 'VERB')),\n",
       " (('NASA', 'DET'), ('NASA', 'NOUN')),\n",
       " (('invited', 'DET'), ('invited', 'VERB')),\n",
       " (('ICESAT-2', 'DET'), ('ICESAT-2', 'NOUN')),\n",
       " (('Satellite', 'DET'), ('Satellite', 'NOUN'))]"
      ]
     },
     "execution_count": 53,
     "metadata": {},
     "output_type": "execute_result"
    }
   ],
   "source": [
    "#lets take a look into mapping of the corrected tagged words with earlier incorrect tagged words in test set\n",
    "updated_tagged_cases = [j for i, j in enumerate(zip(test_list, test_list2)) if j[0]!=j[1]]\n",
    "updated_tagged_cases"
   ]
  },
  {
   "cell_type": "markdown",
   "metadata": {},
   "source": [
    "### Observations on Test Dataset: Cases which were corrected using Modified Viterbi algorithm -1\n",
    "##### Accuracy With vanilla viterbi Algorithm:      90%\n",
    "##### Accuracy With modify viterbi Algorithm -1:  95%\n",
    "##### Accuracy With modify viterbi Algorithm -2:  93%\n",
    "As you can see that there are number of words which got corrected with modified viterbi algoritham-1 & viterbi algorthm -2. But First modification techique based on lexicon and rule based tagger is better so we will consider the same.\n",
    "Below are few observations from test dataset which i have mentioned:\n",
    "- <font color=blue> Android, Google, Twitter, FIFA, OS, worldwide etc. were tagged as DET but with modified viterbi algorithm, all these words are now tagged as NOUN.</font>\n",
    "- <font color=blue>Numbers like 2011, 2015, 2018 etc. were tagged as DET but with modified viterbi algorithm, all these words are now tagged as NUM.</font>\n",
    "- <font color=blue>word \"contested\", \"arriving\" were tagged as DET with vanilla viterbi algorithm but got corrected to VERB with modified viterbi algorithm </font>"
   ]
  }
 ],
 "metadata": {
  "kernelspec": {
   "display_name": "Python 3",
   "language": "python",
   "name": "python3"
  },
  "language_info": {
   "codemirror_mode": {
    "name": "ipython",
    "version": 3
   },
   "file_extension": ".py",
   "mimetype": "text/x-python",
   "name": "python",
   "nbconvert_exporter": "python",
   "pygments_lexer": "ipython3",
   "version": "3.7.1"
  }
 },
 "nbformat": 4,
 "nbformat_minor": 2
}
